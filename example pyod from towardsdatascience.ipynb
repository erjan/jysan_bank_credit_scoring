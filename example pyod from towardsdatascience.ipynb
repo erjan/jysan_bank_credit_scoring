{
 "cells": [
  {
   "cell_type": "code",
   "execution_count": 69,
   "metadata": {},
   "outputs": [],
   "source": [
    "import numpy as np\n",
    "import pandas as pd\n",
    "from pyod.utils.data import generate_data\n",
    "from sklearn.model_selection import train_test_split\n",
    "import matplotlib.pyplot as plt\n",
    "import warnings\n",
    "warnings.filterwarnings(\"ignore\")\n",
    "from sklearn.ensemble import IsolationForest\n",
    "from sklearn.covariance import EllipticEnvelope\n",
    "from pyod.models.knn import KNN\n",
    "from pyod.models import pca\n",
    "from sklearn.utils import shuffle"
   ]
  },
  {
   "cell_type": "code",
   "execution_count": 2,
   "metadata": {},
   "outputs": [],
   "source": [
    "contamination = 0.1 # percentage of outliers\n",
    "n_train = 500       # number of training points\n",
    "n_test = 500        # number of testing points\n",
    "n_features = 10      # number of features\n",
    "X_train, y_train, X_test, y_test = generate_data(\n",
    " n_train=n_train, n_test=n_test, n_features= n_features, contamination=contamination)\n",
    " \n",
    "# Plot\n",
    "# plt.scatter(X_train[0], X_train[1], c=y_train, alpha=0.8)\n",
    "# plt.title('Scatter plot pythonspot.com')\n",
    "# plt.xlabel('x')\n",
    "# plt.ylabel('y')\n",
    "# plt.show()"
   ]
  },
  {
   "cell_type": "code",
   "execution_count": 79,
   "metadata": {},
   "outputs": [
    {
     "data": {
      "text/plain": [
       "((500, 10), (500, 10))"
      ]
     },
     "execution_count": 79,
     "metadata": {},
     "output_type": "execute_result"
    }
   ],
   "source": [
    "X_train.shape, X_test.shape"
   ]
  },
  {
   "cell_type": "code",
   "execution_count": 80,
   "metadata": {},
   "outputs": [
    {
     "data": {
      "text/plain": [
       "((500,), (500,))"
      ]
     },
     "execution_count": 80,
     "metadata": {},
     "output_type": "execute_result"
    }
   ],
   "source": [
    "y_train.shape, y_test.shape"
   ]
  },
  {
   "cell_type": "code",
   "execution_count": 82,
   "metadata": {},
   "outputs": [
    {
     "data": {
      "text/html": [
       "<div>\n",
       "<style scoped>\n",
       "    .dataframe tbody tr th:only-of-type {\n",
       "        vertical-align: middle;\n",
       "    }\n",
       "\n",
       "    .dataframe tbody tr th {\n",
       "        vertical-align: top;\n",
       "    }\n",
       "\n",
       "    .dataframe thead th {\n",
       "        text-align: right;\n",
       "    }\n",
       "</style>\n",
       "<table border=\"1\" class=\"dataframe\">\n",
       "  <thead>\n",
       "    <tr style=\"text-align: right;\">\n",
       "      <th></th>\n",
       "      <th>0</th>\n",
       "      <th>1</th>\n",
       "      <th>2</th>\n",
       "      <th>3</th>\n",
       "      <th>4</th>\n",
       "      <th>5</th>\n",
       "      <th>6</th>\n",
       "      <th>7</th>\n",
       "      <th>8</th>\n",
       "      <th>9</th>\n",
       "    </tr>\n",
       "  </thead>\n",
       "  <tbody>\n",
       "    <tr>\n",
       "      <td>0</td>\n",
       "      <td>4.867876</td>\n",
       "      <td>4.861021</td>\n",
       "      <td>4.893581</td>\n",
       "      <td>5.047658</td>\n",
       "      <td>4.987700</td>\n",
       "      <td>5.020154</td>\n",
       "      <td>4.948708</td>\n",
       "      <td>4.858033</td>\n",
       "      <td>4.987205</td>\n",
       "      <td>4.914730</td>\n",
       "    </tr>\n",
       "    <tr>\n",
       "      <td>1</td>\n",
       "      <td>5.045391</td>\n",
       "      <td>4.826668</td>\n",
       "      <td>4.953031</td>\n",
       "      <td>5.115976</td>\n",
       "      <td>4.984106</td>\n",
       "      <td>5.024913</td>\n",
       "      <td>4.974190</td>\n",
       "      <td>5.035653</td>\n",
       "      <td>4.827159</td>\n",
       "      <td>4.928788</td>\n",
       "    </tr>\n",
       "    <tr>\n",
       "      <td>2</td>\n",
       "      <td>5.030149</td>\n",
       "      <td>5.093709</td>\n",
       "      <td>5.036397</td>\n",
       "      <td>5.093689</td>\n",
       "      <td>5.073302</td>\n",
       "      <td>4.874456</td>\n",
       "      <td>5.003108</td>\n",
       "      <td>4.946583</td>\n",
       "      <td>4.897254</td>\n",
       "      <td>4.916711</td>\n",
       "    </tr>\n",
       "    <tr>\n",
       "      <td>3</td>\n",
       "      <td>4.923852</td>\n",
       "      <td>4.805676</td>\n",
       "      <td>4.990330</td>\n",
       "      <td>4.903187</td>\n",
       "      <td>4.892740</td>\n",
       "      <td>4.990352</td>\n",
       "      <td>5.149923</td>\n",
       "      <td>5.056946</td>\n",
       "      <td>5.146437</td>\n",
       "      <td>4.776329</td>\n",
       "    </tr>\n",
       "    <tr>\n",
       "      <td>4</td>\n",
       "      <td>5.075550</td>\n",
       "      <td>4.990221</td>\n",
       "      <td>4.925481</td>\n",
       "      <td>5.033858</td>\n",
       "      <td>4.986320</td>\n",
       "      <td>5.136969</td>\n",
       "      <td>5.023573</td>\n",
       "      <td>5.031457</td>\n",
       "      <td>5.221463</td>\n",
       "      <td>4.945609</td>\n",
       "    </tr>\n",
       "    <tr>\n",
       "      <td>...</td>\n",
       "      <td>...</td>\n",
       "      <td>...</td>\n",
       "      <td>...</td>\n",
       "      <td>...</td>\n",
       "      <td>...</td>\n",
       "      <td>...</td>\n",
       "      <td>...</td>\n",
       "      <td>...</td>\n",
       "      <td>...</td>\n",
       "      <td>...</td>\n",
       "    </tr>\n",
       "    <tr>\n",
       "      <td>495</td>\n",
       "      <td>1.195674</td>\n",
       "      <td>-3.574945</td>\n",
       "      <td>-4.897884</td>\n",
       "      <td>0.736517</td>\n",
       "      <td>-0.971506</td>\n",
       "      <td>2.969979</td>\n",
       "      <td>4.843703</td>\n",
       "      <td>1.882472</td>\n",
       "      <td>-1.249366</td>\n",
       "      <td>-0.368051</td>\n",
       "    </tr>\n",
       "    <tr>\n",
       "      <td>496</td>\n",
       "      <td>-2.700891</td>\n",
       "      <td>0.410017</td>\n",
       "      <td>-4.274874</td>\n",
       "      <td>4.302419</td>\n",
       "      <td>3.594697</td>\n",
       "      <td>4.050618</td>\n",
       "      <td>1.559201</td>\n",
       "      <td>-3.642461</td>\n",
       "      <td>-1.518497</td>\n",
       "      <td>-4.556928</td>\n",
       "    </tr>\n",
       "    <tr>\n",
       "      <td>497</td>\n",
       "      <td>-1.286184</td>\n",
       "      <td>-0.516675</td>\n",
       "      <td>0.214890</td>\n",
       "      <td>2.164345</td>\n",
       "      <td>1.981236</td>\n",
       "      <td>-0.472877</td>\n",
       "      <td>-4.561592</td>\n",
       "      <td>4.270297</td>\n",
       "      <td>-3.138236</td>\n",
       "      <td>2.077581</td>\n",
       "    </tr>\n",
       "    <tr>\n",
       "      <td>498</td>\n",
       "      <td>2.465191</td>\n",
       "      <td>2.931984</td>\n",
       "      <td>-2.370511</td>\n",
       "      <td>-2.153223</td>\n",
       "      <td>0.395755</td>\n",
       "      <td>2.064762</td>\n",
       "      <td>4.469127</td>\n",
       "      <td>3.528019</td>\n",
       "      <td>-1.673522</td>\n",
       "      <td>-1.471872</td>\n",
       "    </tr>\n",
       "    <tr>\n",
       "      <td>499</td>\n",
       "      <td>4.282764</td>\n",
       "      <td>-2.214752</td>\n",
       "      <td>-2.341600</td>\n",
       "      <td>2.726690</td>\n",
       "      <td>1.168986</td>\n",
       "      <td>0.132847</td>\n",
       "      <td>-1.534589</td>\n",
       "      <td>-0.740225</td>\n",
       "      <td>3.633313</td>\n",
       "      <td>-1.299091</td>\n",
       "    </tr>\n",
       "  </tbody>\n",
       "</table>\n",
       "<p>500 rows × 10 columns</p>\n",
       "</div>"
      ],
      "text/plain": [
       "            0         1         2         3         4         5         6  \\\n",
       "0    4.867876  4.861021  4.893581  5.047658  4.987700  5.020154  4.948708   \n",
       "1    5.045391  4.826668  4.953031  5.115976  4.984106  5.024913  4.974190   \n",
       "2    5.030149  5.093709  5.036397  5.093689  5.073302  4.874456  5.003108   \n",
       "3    4.923852  4.805676  4.990330  4.903187  4.892740  4.990352  5.149923   \n",
       "4    5.075550  4.990221  4.925481  5.033858  4.986320  5.136969  5.023573   \n",
       "..        ...       ...       ...       ...       ...       ...       ...   \n",
       "495  1.195674 -3.574945 -4.897884  0.736517 -0.971506  2.969979  4.843703   \n",
       "496 -2.700891  0.410017 -4.274874  4.302419  3.594697  4.050618  1.559201   \n",
       "497 -1.286184 -0.516675  0.214890  2.164345  1.981236 -0.472877 -4.561592   \n",
       "498  2.465191  2.931984 -2.370511 -2.153223  0.395755  2.064762  4.469127   \n",
       "499  4.282764 -2.214752 -2.341600  2.726690  1.168986  0.132847 -1.534589   \n",
       "\n",
       "            7         8         9  \n",
       "0    4.858033  4.987205  4.914730  \n",
       "1    5.035653  4.827159  4.928788  \n",
       "2    4.946583  4.897254  4.916711  \n",
       "3    5.056946  5.146437  4.776329  \n",
       "4    5.031457  5.221463  4.945609  \n",
       "..        ...       ...       ...  \n",
       "495  1.882472 -1.249366 -0.368051  \n",
       "496 -3.642461 -1.518497 -4.556928  \n",
       "497  4.270297 -3.138236  2.077581  \n",
       "498  3.528019 -1.673522 -1.471872  \n",
       "499 -0.740225  3.633313 -1.299091  \n",
       "\n",
       "[500 rows x 10 columns]"
      ]
     },
     "execution_count": 82,
     "metadata": {},
     "output_type": "execute_result"
    }
   ],
   "source": [
    "pd.DataFrame(X_train)"
   ]
  },
  {
   "cell_type": "code",
   "execution_count": 78,
   "metadata": {},
   "outputs": [],
   "source": [
    "X_train_df = pd.DataFrame(X_train)\n",
    "X_test_df = pd.DataFrame(X_test)"
   ]
  },
  {
   "cell_type": "code",
   "execution_count": 5,
   "metadata": {},
   "outputs": [],
   "source": [
    "X_all_df = pd.concat([X_train_df, X_test_df])"
   ]
  },
  {
   "cell_type": "code",
   "execution_count": 6,
   "metadata": {},
   "outputs": [
    {
     "data": {
      "text/html": [
       "<div>\n",
       "<style scoped>\n",
       "    .dataframe tbody tr th:only-of-type {\n",
       "        vertical-align: middle;\n",
       "    }\n",
       "\n",
       "    .dataframe tbody tr th {\n",
       "        vertical-align: top;\n",
       "    }\n",
       "\n",
       "    .dataframe thead th {\n",
       "        text-align: right;\n",
       "    }\n",
       "</style>\n",
       "<table border=\"1\" class=\"dataframe\">\n",
       "  <thead>\n",
       "    <tr style=\"text-align: right;\">\n",
       "      <th></th>\n",
       "      <th>0</th>\n",
       "      <th>1</th>\n",
       "      <th>2</th>\n",
       "      <th>3</th>\n",
       "      <th>4</th>\n",
       "      <th>5</th>\n",
       "      <th>6</th>\n",
       "      <th>7</th>\n",
       "      <th>8</th>\n",
       "      <th>9</th>\n",
       "    </tr>\n",
       "  </thead>\n",
       "  <tbody>\n",
       "    <tr>\n",
       "      <td>0</td>\n",
       "      <td>4.867876</td>\n",
       "      <td>4.861021</td>\n",
       "      <td>4.893581</td>\n",
       "      <td>5.047658</td>\n",
       "      <td>4.987700</td>\n",
       "      <td>5.020154</td>\n",
       "      <td>4.948708</td>\n",
       "      <td>4.858033</td>\n",
       "      <td>4.987205</td>\n",
       "      <td>4.914730</td>\n",
       "    </tr>\n",
       "    <tr>\n",
       "      <td>1</td>\n",
       "      <td>5.045391</td>\n",
       "      <td>4.826668</td>\n",
       "      <td>4.953031</td>\n",
       "      <td>5.115976</td>\n",
       "      <td>4.984106</td>\n",
       "      <td>5.024913</td>\n",
       "      <td>4.974190</td>\n",
       "      <td>5.035653</td>\n",
       "      <td>4.827159</td>\n",
       "      <td>4.928788</td>\n",
       "    </tr>\n",
       "    <tr>\n",
       "      <td>2</td>\n",
       "      <td>5.030149</td>\n",
       "      <td>5.093709</td>\n",
       "      <td>5.036397</td>\n",
       "      <td>5.093689</td>\n",
       "      <td>5.073302</td>\n",
       "      <td>4.874456</td>\n",
       "      <td>5.003108</td>\n",
       "      <td>4.946583</td>\n",
       "      <td>4.897254</td>\n",
       "      <td>4.916711</td>\n",
       "    </tr>\n",
       "    <tr>\n",
       "      <td>3</td>\n",
       "      <td>4.923852</td>\n",
       "      <td>4.805676</td>\n",
       "      <td>4.990330</td>\n",
       "      <td>4.903187</td>\n",
       "      <td>4.892740</td>\n",
       "      <td>4.990352</td>\n",
       "      <td>5.149923</td>\n",
       "      <td>5.056946</td>\n",
       "      <td>5.146437</td>\n",
       "      <td>4.776329</td>\n",
       "    </tr>\n",
       "    <tr>\n",
       "      <td>4</td>\n",
       "      <td>5.075550</td>\n",
       "      <td>4.990221</td>\n",
       "      <td>4.925481</td>\n",
       "      <td>5.033858</td>\n",
       "      <td>4.986320</td>\n",
       "      <td>5.136969</td>\n",
       "      <td>5.023573</td>\n",
       "      <td>5.031457</td>\n",
       "      <td>5.221463</td>\n",
       "      <td>4.945609</td>\n",
       "    </tr>\n",
       "    <tr>\n",
       "      <td>...</td>\n",
       "      <td>...</td>\n",
       "      <td>...</td>\n",
       "      <td>...</td>\n",
       "      <td>...</td>\n",
       "      <td>...</td>\n",
       "      <td>...</td>\n",
       "      <td>...</td>\n",
       "      <td>...</td>\n",
       "      <td>...</td>\n",
       "      <td>...</td>\n",
       "    </tr>\n",
       "    <tr>\n",
       "      <td>495</td>\n",
       "      <td>-1.821928</td>\n",
       "      <td>-1.926241</td>\n",
       "      <td>3.731896</td>\n",
       "      <td>-2.707061</td>\n",
       "      <td>-2.648710</td>\n",
       "      <td>1.785125</td>\n",
       "      <td>-3.289398</td>\n",
       "      <td>-2.133634</td>\n",
       "      <td>0.374499</td>\n",
       "      <td>-0.891921</td>\n",
       "    </tr>\n",
       "    <tr>\n",
       "      <td>496</td>\n",
       "      <td>0.244737</td>\n",
       "      <td>-0.199412</td>\n",
       "      <td>-2.480336</td>\n",
       "      <td>3.071822</td>\n",
       "      <td>-3.636755</td>\n",
       "      <td>0.196221</td>\n",
       "      <td>-1.885262</td>\n",
       "      <td>1.560928</td>\n",
       "      <td>0.267891</td>\n",
       "      <td>4.911915</td>\n",
       "    </tr>\n",
       "    <tr>\n",
       "      <td>497</td>\n",
       "      <td>-4.535021</td>\n",
       "      <td>-1.109313</td>\n",
       "      <td>0.159634</td>\n",
       "      <td>-3.949642</td>\n",
       "      <td>2.993389</td>\n",
       "      <td>1.314317</td>\n",
       "      <td>-0.214044</td>\n",
       "      <td>-3.641542</td>\n",
       "      <td>-4.545858</td>\n",
       "      <td>3.295767</td>\n",
       "    </tr>\n",
       "    <tr>\n",
       "      <td>498</td>\n",
       "      <td>-1.472827</td>\n",
       "      <td>1.866297</td>\n",
       "      <td>2.793643</td>\n",
       "      <td>3.496990</td>\n",
       "      <td>-0.935658</td>\n",
       "      <td>4.789980</td>\n",
       "      <td>-3.730078</td>\n",
       "      <td>-0.065505</td>\n",
       "      <td>-2.925409</td>\n",
       "      <td>-4.251579</td>\n",
       "    </tr>\n",
       "    <tr>\n",
       "      <td>499</td>\n",
       "      <td>-4.947056</td>\n",
       "      <td>1.920732</td>\n",
       "      <td>-3.448392</td>\n",
       "      <td>-1.980195</td>\n",
       "      <td>1.217394</td>\n",
       "      <td>2.922783</td>\n",
       "      <td>1.387783</td>\n",
       "      <td>3.731717</td>\n",
       "      <td>0.927886</td>\n",
       "      <td>-0.679927</td>\n",
       "    </tr>\n",
       "  </tbody>\n",
       "</table>\n",
       "<p>1000 rows × 10 columns</p>\n",
       "</div>"
      ],
      "text/plain": [
       "            0         1         2         3         4         5         6  \\\n",
       "0    4.867876  4.861021  4.893581  5.047658  4.987700  5.020154  4.948708   \n",
       "1    5.045391  4.826668  4.953031  5.115976  4.984106  5.024913  4.974190   \n",
       "2    5.030149  5.093709  5.036397  5.093689  5.073302  4.874456  5.003108   \n",
       "3    4.923852  4.805676  4.990330  4.903187  4.892740  4.990352  5.149923   \n",
       "4    5.075550  4.990221  4.925481  5.033858  4.986320  5.136969  5.023573   \n",
       "..        ...       ...       ...       ...       ...       ...       ...   \n",
       "495 -1.821928 -1.926241  3.731896 -2.707061 -2.648710  1.785125 -3.289398   \n",
       "496  0.244737 -0.199412 -2.480336  3.071822 -3.636755  0.196221 -1.885262   \n",
       "497 -4.535021 -1.109313  0.159634 -3.949642  2.993389  1.314317 -0.214044   \n",
       "498 -1.472827  1.866297  2.793643  3.496990 -0.935658  4.789980 -3.730078   \n",
       "499 -4.947056  1.920732 -3.448392 -1.980195  1.217394  2.922783  1.387783   \n",
       "\n",
       "            7         8         9  \n",
       "0    4.858033  4.987205  4.914730  \n",
       "1    5.035653  4.827159  4.928788  \n",
       "2    4.946583  4.897254  4.916711  \n",
       "3    5.056946  5.146437  4.776329  \n",
       "4    5.031457  5.221463  4.945609  \n",
       "..        ...       ...       ...  \n",
       "495 -2.133634  0.374499 -0.891921  \n",
       "496  1.560928  0.267891  4.911915  \n",
       "497 -3.641542 -4.545858  3.295767  \n",
       "498 -0.065505 -2.925409 -4.251579  \n",
       "499  3.731717  0.927886 -0.679927  \n",
       "\n",
       "[1000 rows x 10 columns]"
      ]
     },
     "execution_count": 6,
     "metadata": {},
     "output_type": "execute_result"
    }
   ],
   "source": [
    "X_all_df"
   ]
  },
  {
   "cell_type": "code",
   "execution_count": 11,
   "metadata": {},
   "outputs": [],
   "source": [
    "total_df = X_all_df.copy()"
   ]
  },
  {
   "cell_type": "code",
   "execution_count": 12,
   "metadata": {},
   "outputs": [],
   "source": [
    "total_df['target'] = y_all_df"
   ]
  },
  {
   "cell_type": "code",
   "execution_count": 13,
   "metadata": {},
   "outputs": [
    {
     "data": {
      "text/html": [
       "<div>\n",
       "<style scoped>\n",
       "    .dataframe tbody tr th:only-of-type {\n",
       "        vertical-align: middle;\n",
       "    }\n",
       "\n",
       "    .dataframe tbody tr th {\n",
       "        vertical-align: top;\n",
       "    }\n",
       "\n",
       "    .dataframe thead th {\n",
       "        text-align: right;\n",
       "    }\n",
       "</style>\n",
       "<table border=\"1\" class=\"dataframe\">\n",
       "  <thead>\n",
       "    <tr style=\"text-align: right;\">\n",
       "      <th></th>\n",
       "      <th>0</th>\n",
       "      <th>1</th>\n",
       "      <th>2</th>\n",
       "      <th>3</th>\n",
       "      <th>4</th>\n",
       "      <th>5</th>\n",
       "      <th>6</th>\n",
       "      <th>7</th>\n",
       "      <th>8</th>\n",
       "      <th>9</th>\n",
       "      <th>target</th>\n",
       "    </tr>\n",
       "  </thead>\n",
       "  <tbody>\n",
       "    <tr>\n",
       "      <td>0</td>\n",
       "      <td>4.867876</td>\n",
       "      <td>4.861021</td>\n",
       "      <td>4.893581</td>\n",
       "      <td>5.047658</td>\n",
       "      <td>4.987700</td>\n",
       "      <td>5.020154</td>\n",
       "      <td>4.948708</td>\n",
       "      <td>4.858033</td>\n",
       "      <td>4.987205</td>\n",
       "      <td>4.914730</td>\n",
       "      <td>0.0</td>\n",
       "    </tr>\n",
       "    <tr>\n",
       "      <td>1</td>\n",
       "      <td>5.045391</td>\n",
       "      <td>4.826668</td>\n",
       "      <td>4.953031</td>\n",
       "      <td>5.115976</td>\n",
       "      <td>4.984106</td>\n",
       "      <td>5.024913</td>\n",
       "      <td>4.974190</td>\n",
       "      <td>5.035653</td>\n",
       "      <td>4.827159</td>\n",
       "      <td>4.928788</td>\n",
       "      <td>0.0</td>\n",
       "    </tr>\n",
       "    <tr>\n",
       "      <td>2</td>\n",
       "      <td>5.030149</td>\n",
       "      <td>5.093709</td>\n",
       "      <td>5.036397</td>\n",
       "      <td>5.093689</td>\n",
       "      <td>5.073302</td>\n",
       "      <td>4.874456</td>\n",
       "      <td>5.003108</td>\n",
       "      <td>4.946583</td>\n",
       "      <td>4.897254</td>\n",
       "      <td>4.916711</td>\n",
       "      <td>0.0</td>\n",
       "    </tr>\n",
       "    <tr>\n",
       "      <td>3</td>\n",
       "      <td>4.923852</td>\n",
       "      <td>4.805676</td>\n",
       "      <td>4.990330</td>\n",
       "      <td>4.903187</td>\n",
       "      <td>4.892740</td>\n",
       "      <td>4.990352</td>\n",
       "      <td>5.149923</td>\n",
       "      <td>5.056946</td>\n",
       "      <td>5.146437</td>\n",
       "      <td>4.776329</td>\n",
       "      <td>0.0</td>\n",
       "    </tr>\n",
       "    <tr>\n",
       "      <td>4</td>\n",
       "      <td>5.075550</td>\n",
       "      <td>4.990221</td>\n",
       "      <td>4.925481</td>\n",
       "      <td>5.033858</td>\n",
       "      <td>4.986320</td>\n",
       "      <td>5.136969</td>\n",
       "      <td>5.023573</td>\n",
       "      <td>5.031457</td>\n",
       "      <td>5.221463</td>\n",
       "      <td>4.945609</td>\n",
       "      <td>0.0</td>\n",
       "    </tr>\n",
       "    <tr>\n",
       "      <td>...</td>\n",
       "      <td>...</td>\n",
       "      <td>...</td>\n",
       "      <td>...</td>\n",
       "      <td>...</td>\n",
       "      <td>...</td>\n",
       "      <td>...</td>\n",
       "      <td>...</td>\n",
       "      <td>...</td>\n",
       "      <td>...</td>\n",
       "      <td>...</td>\n",
       "      <td>...</td>\n",
       "    </tr>\n",
       "    <tr>\n",
       "      <td>495</td>\n",
       "      <td>-1.821928</td>\n",
       "      <td>-1.926241</td>\n",
       "      <td>3.731896</td>\n",
       "      <td>-2.707061</td>\n",
       "      <td>-2.648710</td>\n",
       "      <td>1.785125</td>\n",
       "      <td>-3.289398</td>\n",
       "      <td>-2.133634</td>\n",
       "      <td>0.374499</td>\n",
       "      <td>-0.891921</td>\n",
       "      <td>1.0</td>\n",
       "    </tr>\n",
       "    <tr>\n",
       "      <td>496</td>\n",
       "      <td>0.244737</td>\n",
       "      <td>-0.199412</td>\n",
       "      <td>-2.480336</td>\n",
       "      <td>3.071822</td>\n",
       "      <td>-3.636755</td>\n",
       "      <td>0.196221</td>\n",
       "      <td>-1.885262</td>\n",
       "      <td>1.560928</td>\n",
       "      <td>0.267891</td>\n",
       "      <td>4.911915</td>\n",
       "      <td>1.0</td>\n",
       "    </tr>\n",
       "    <tr>\n",
       "      <td>497</td>\n",
       "      <td>-4.535021</td>\n",
       "      <td>-1.109313</td>\n",
       "      <td>0.159634</td>\n",
       "      <td>-3.949642</td>\n",
       "      <td>2.993389</td>\n",
       "      <td>1.314317</td>\n",
       "      <td>-0.214044</td>\n",
       "      <td>-3.641542</td>\n",
       "      <td>-4.545858</td>\n",
       "      <td>3.295767</td>\n",
       "      <td>1.0</td>\n",
       "    </tr>\n",
       "    <tr>\n",
       "      <td>498</td>\n",
       "      <td>-1.472827</td>\n",
       "      <td>1.866297</td>\n",
       "      <td>2.793643</td>\n",
       "      <td>3.496990</td>\n",
       "      <td>-0.935658</td>\n",
       "      <td>4.789980</td>\n",
       "      <td>-3.730078</td>\n",
       "      <td>-0.065505</td>\n",
       "      <td>-2.925409</td>\n",
       "      <td>-4.251579</td>\n",
       "      <td>1.0</td>\n",
       "    </tr>\n",
       "    <tr>\n",
       "      <td>499</td>\n",
       "      <td>-4.947056</td>\n",
       "      <td>1.920732</td>\n",
       "      <td>-3.448392</td>\n",
       "      <td>-1.980195</td>\n",
       "      <td>1.217394</td>\n",
       "      <td>2.922783</td>\n",
       "      <td>1.387783</td>\n",
       "      <td>3.731717</td>\n",
       "      <td>0.927886</td>\n",
       "      <td>-0.679927</td>\n",
       "      <td>1.0</td>\n",
       "    </tr>\n",
       "  </tbody>\n",
       "</table>\n",
       "<p>1000 rows × 11 columns</p>\n",
       "</div>"
      ],
      "text/plain": [
       "            0         1         2         3         4         5         6  \\\n",
       "0    4.867876  4.861021  4.893581  5.047658  4.987700  5.020154  4.948708   \n",
       "1    5.045391  4.826668  4.953031  5.115976  4.984106  5.024913  4.974190   \n",
       "2    5.030149  5.093709  5.036397  5.093689  5.073302  4.874456  5.003108   \n",
       "3    4.923852  4.805676  4.990330  4.903187  4.892740  4.990352  5.149923   \n",
       "4    5.075550  4.990221  4.925481  5.033858  4.986320  5.136969  5.023573   \n",
       "..        ...       ...       ...       ...       ...       ...       ...   \n",
       "495 -1.821928 -1.926241  3.731896 -2.707061 -2.648710  1.785125 -3.289398   \n",
       "496  0.244737 -0.199412 -2.480336  3.071822 -3.636755  0.196221 -1.885262   \n",
       "497 -4.535021 -1.109313  0.159634 -3.949642  2.993389  1.314317 -0.214044   \n",
       "498 -1.472827  1.866297  2.793643  3.496990 -0.935658  4.789980 -3.730078   \n",
       "499 -4.947056  1.920732 -3.448392 -1.980195  1.217394  2.922783  1.387783   \n",
       "\n",
       "            7         8         9  target  \n",
       "0    4.858033  4.987205  4.914730     0.0  \n",
       "1    5.035653  4.827159  4.928788     0.0  \n",
       "2    4.946583  4.897254  4.916711     0.0  \n",
       "3    5.056946  5.146437  4.776329     0.0  \n",
       "4    5.031457  5.221463  4.945609     0.0  \n",
       "..        ...       ...       ...     ...  \n",
       "495 -2.133634  0.374499 -0.891921     1.0  \n",
       "496  1.560928  0.267891  4.911915     1.0  \n",
       "497 -3.641542 -4.545858  3.295767     1.0  \n",
       "498 -0.065505 -2.925409 -4.251579     1.0  \n",
       "499  3.731717  0.927886 -0.679927     1.0  \n",
       "\n",
       "[1000 rows x 11 columns]"
      ]
     },
     "execution_count": 13,
     "metadata": {},
     "output_type": "execute_result"
    }
   ],
   "source": [
    "total_df"
   ]
  },
  {
   "cell_type": "code",
   "execution_count": null,
   "metadata": {},
   "outputs": [],
   "source": []
  },
  {
   "cell_type": "code",
   "execution_count": 17,
   "metadata": {},
   "outputs": [],
   "source": [
    "clf_name = 'KNN'\n",
    "clf = KNN()\n",
    "clf.fit(X_train)\n",
    "# If you want to see the predictions of the training data, you can use this way:\n",
    "y_train_scores = clf.decision_scores_"
   ]
  },
  {
   "cell_type": "code",
   "execution_count": 18,
   "metadata": {},
   "outputs": [],
   "source": [
    "y_test_pred = clf.predict(X_test) # outlier labels (0 or 1)\n",
    "# Because it is '0' and '1', we can run a count statistic. There are 44 '1's and 456 '0's. The number of anomalies is roughly ten percent, as we have generated before:\n",
    "unique, counts = np.unique(y_test_pred, return_counts=True)\n",
    "dict(zip(unique, counts))\n",
    "#{0: 456, 1: 44}\n",
    "# And you can generate the anomaly score using clf.decision_function:\n",
    "y_test_scores = clf.decision_function(X_test)"
   ]
  },
  {
   "cell_type": "code",
   "execution_count": 19,
   "metadata": {},
   "outputs": [
    {
     "data": {
      "text/plain": [
       "0    450\n",
       "1     50\n",
       "Name: outlier_yes_no, dtype: int64"
      ]
     },
     "execution_count": 19,
     "metadata": {},
     "output_type": "execute_result"
    }
   ],
   "source": [
    "aa = pd.DataFrame(y_test_pred,columns=['outlier_yes_no'])\n",
    "aa['outlier_yes_no'].value_counts()"
   ]
  },
  {
   "cell_type": "code",
   "execution_count": 20,
   "metadata": {},
   "outputs": [],
   "source": [
    "y_test_df=pd.DataFrame(y_test_scores, columns=['outlier_score'])"
   ]
  },
  {
   "cell_type": "code",
   "execution_count": 21,
   "metadata": {},
   "outputs": [
    {
     "data": {
      "text/html": [
       "<div>\n",
       "<style scoped>\n",
       "    .dataframe tbody tr th:only-of-type {\n",
       "        vertical-align: middle;\n",
       "    }\n",
       "\n",
       "    .dataframe tbody tr th {\n",
       "        vertical-align: top;\n",
       "    }\n",
       "\n",
       "    .dataframe thead th {\n",
       "        text-align: right;\n",
       "    }\n",
       "</style>\n",
       "<table border=\"1\" class=\"dataframe\">\n",
       "  <thead>\n",
       "    <tr style=\"text-align: right;\">\n",
       "      <th></th>\n",
       "      <th>outlier_score</th>\n",
       "    </tr>\n",
       "  </thead>\n",
       "  <tbody>\n",
       "    <tr>\n",
       "      <td>0</td>\n",
       "      <td>0.202735</td>\n",
       "    </tr>\n",
       "    <tr>\n",
       "      <td>1</td>\n",
       "      <td>0.226013</td>\n",
       "    </tr>\n",
       "    <tr>\n",
       "      <td>2</td>\n",
       "      <td>0.225984</td>\n",
       "    </tr>\n",
       "    <tr>\n",
       "      <td>3</td>\n",
       "      <td>0.283883</td>\n",
       "    </tr>\n",
       "    <tr>\n",
       "      <td>4</td>\n",
       "      <td>0.257078</td>\n",
       "    </tr>\n",
       "    <tr>\n",
       "      <td>...</td>\n",
       "      <td>...</td>\n",
       "    </tr>\n",
       "    <tr>\n",
       "      <td>495</td>\n",
       "      <td>8.572883</td>\n",
       "    </tr>\n",
       "    <tr>\n",
       "      <td>496</td>\n",
       "      <td>9.005282</td>\n",
       "    </tr>\n",
       "    <tr>\n",
       "      <td>497</td>\n",
       "      <td>10.478672</td>\n",
       "    </tr>\n",
       "    <tr>\n",
       "      <td>498</td>\n",
       "      <td>10.485199</td>\n",
       "    </tr>\n",
       "    <tr>\n",
       "      <td>499</td>\n",
       "      <td>8.688945</td>\n",
       "    </tr>\n",
       "  </tbody>\n",
       "</table>\n",
       "<p>500 rows × 1 columns</p>\n",
       "</div>"
      ],
      "text/plain": [
       "     outlier_score\n",
       "0         0.202735\n",
       "1         0.226013\n",
       "2         0.225984\n",
       "3         0.283883\n",
       "4         0.257078\n",
       "..             ...\n",
       "495       8.572883\n",
       "496       9.005282\n",
       "497      10.478672\n",
       "498      10.485199\n",
       "499       8.688945\n",
       "\n",
       "[500 rows x 1 columns]"
      ]
     },
     "execution_count": 21,
     "metadata": {},
     "output_type": "execute_result"
    }
   ],
   "source": [
    "y_test_df"
   ]
  },
  {
   "cell_type": "code",
   "execution_count": 22,
   "metadata": {},
   "outputs": [],
   "source": [
    "y_test_df_avg_score = y_test_df['outlier_score'].mean()"
   ]
  },
  {
   "cell_type": "code",
   "execution_count": 23,
   "metadata": {},
   "outputs": [
    {
     "data": {
      "text/plain": [
       "1.1568644919618323"
      ]
     },
     "execution_count": 23,
     "metadata": {},
     "output_type": "execute_result"
    }
   ],
   "source": [
    "y_test_df_avg_score"
   ]
  },
  {
   "cell_type": "code",
   "execution_count": 24,
   "metadata": {},
   "outputs": [
    {
     "data": {
      "image/png": "[encoded data removed]",
      "text/plain": [
       "<Figure size 432x288 with 1 Axes>"
      ]
     },
     "metadata": {
      "needs_background": "light"
     },
     "output_type": "display_data"
    }
   ],
   "source": [
    "plt.hist(y_test_scores, bins='auto')  # arguments are passed to np.histogram\n",
    "plt.title(\"Histogram with 'auto' bins\")\n",
    "plt.show()"
   ]
  },
  {
   "cell_type": "code",
   "execution_count": 25,
   "metadata": {},
   "outputs": [
    {
     "data": {
      "text/html": [
       "<div>\n",
       "<style scoped>\n",
       "    .dataframe tbody tr th:only-of-type {\n",
       "        vertical-align: middle;\n",
       "    }\n",
       "\n",
       "    .dataframe tbody tr th {\n",
       "        vertical-align: top;\n",
       "    }\n",
       "\n",
       "    .dataframe thead th {\n",
       "        text-align: right;\n",
       "    }\n",
       "</style>\n",
       "<table border=\"1\" class=\"dataframe\">\n",
       "  <thead>\n",
       "    <tr style=\"text-align: right;\">\n",
       "      <th></th>\n",
       "      <th>0</th>\n",
       "      <th>1</th>\n",
       "      <th>2</th>\n",
       "      <th>3</th>\n",
       "      <th>4</th>\n",
       "      <th>5</th>\n",
       "      <th>6</th>\n",
       "      <th>7</th>\n",
       "      <th>8</th>\n",
       "      <th>9</th>\n",
       "      <th>score</th>\n",
       "    </tr>\n",
       "    <tr>\n",
       "      <th>cluster</th>\n",
       "      <th></th>\n",
       "      <th></th>\n",
       "      <th></th>\n",
       "      <th></th>\n",
       "      <th></th>\n",
       "      <th></th>\n",
       "      <th></th>\n",
       "      <th></th>\n",
       "      <th></th>\n",
       "      <th></th>\n",
       "      <th></th>\n",
       "    </tr>\n",
       "  </thead>\n",
       "  <tbody>\n",
       "    <tr>\n",
       "      <td>0</td>\n",
       "      <td>4.997642</td>\n",
       "      <td>4.998571</td>\n",
       "      <td>5.004065</td>\n",
       "      <td>5.000697</td>\n",
       "      <td>5.005093</td>\n",
       "      <td>5.007802</td>\n",
       "      <td>5.009865</td>\n",
       "      <td>5.004065</td>\n",
       "      <td>5.001373</td>\n",
       "      <td>5.000961</td>\n",
       "      <td>0.237917</td>\n",
       "    </tr>\n",
       "    <tr>\n",
       "      <td>1</td>\n",
       "      <td>-0.702352</td>\n",
       "      <td>0.084016</td>\n",
       "      <td>-0.087155</td>\n",
       "      <td>0.524469</td>\n",
       "      <td>-0.085386</td>\n",
       "      <td>0.573409</td>\n",
       "      <td>-0.053550</td>\n",
       "      <td>-0.199733</td>\n",
       "      <td>0.220779</td>\n",
       "      <td>-0.340144</td>\n",
       "      <td>9.427395</td>\n",
       "    </tr>\n",
       "  </tbody>\n",
       "</table>\n",
       "</div>"
      ],
      "text/plain": [
       "                0         1         2         3         4         5         6  \\\n",
       "cluster                                                                         \n",
       "0        4.997642  4.998571  5.004065  5.000697  5.005093  5.007802  5.009865   \n",
       "1       -0.702352  0.084016 -0.087155  0.524469 -0.085386  0.573409 -0.053550   \n",
       "\n",
       "                7         8         9     score  \n",
       "cluster                                          \n",
       "0        5.004065  5.001373  5.000961  0.237917  \n",
       "1       -0.199733  0.220779 -0.340144  9.427395  "
      ]
     },
     "execution_count": 25,
     "metadata": {},
     "output_type": "execute_result"
    }
   ],
   "source": [
    "df_test = pd.DataFrame(X_test)\n",
    "df_test['score'] = y_test_scores\n",
    "df_test['cluster'] = np.where(df_test['score']<1, 0, 1)\n",
    "df_test['cluster'].value_counts()\n",
    "# Now let's show the summary statistics:\n",
    "#df_test.groupby('y_by_average_cluster').mean()\n",
    "df_test.groupby('cluster').mean()"
   ]
  },
  {
   "cell_type": "code",
   "execution_count": 26,
   "metadata": {},
   "outputs": [
    {
     "name": "stdout",
     "output_type": "stream",
     "text": [
      "modeling....\n",
      "---------------i: 0\n",
      "---------------i: 1\n",
      "---------------i: 2\n",
      "---------------i: 3\n",
      "---------------i: 4\n",
      "---------------i: 5\n",
      "finished modeling...\n",
      "Wall time: 248 ms\n"
     ]
    }
   ],
   "source": [
    "%%time\n",
    "from pyod.models.combination import aom, moa, average, maximization\n",
    "from pyod.utils.utility import standardizer\n",
    "# Standardize data\n",
    "X_train_norm, X_test_norm = standardizer(X_train, X_test)\n",
    "# Test a range of k-neighbors from 10 to 200. There will be 20 k-NN models.\n",
    "n_clf = 6\n",
    "k_list = [10, 20, 30, 40, 50, 60]\n",
    "# Just prepare data frames so we can store the model results\n",
    "train_scores = np.zeros([X_train.shape[0], n_clf])\n",
    "test_scores = np.zeros([X_test.shape[0], n_clf])\n",
    "train_scores.shape\n",
    "# Modeling\n",
    "print(\"modeling....\")\n",
    "for i in range(n_clf):\n",
    "    print(\"---------------i: \" + str(i))\n",
    "    k = k_list[i]\n",
    "    clf = KNN(n_neighbors=k, method='largest')\n",
    "    clf.fit(X_train_norm)\n",
    "\n",
    "    # Store the results in each column:\n",
    "    \n",
    "    train_scores[:, i] = clf.decision_scores_\n",
    "    test_scores[:, i] = clf.decision_function(X_test_norm) \n",
    "print(\"finished modeling...\")\n",
    "# Decision scores have to be normalized before combination\n",
    "train_scores_norm, test_scores_norm = standardizer(train_scores,test_scores)"
   ]
  },
  {
   "cell_type": "code",
   "execution_count": 27,
   "metadata": {},
   "outputs": [
    {
     "data": {
      "image/png": "[encoded data removed]",
      "text/plain": [
       "<Figure size 432x288 with 1 Axes>"
      ]
     },
     "metadata": {
      "needs_background": "light"
     },
     "output_type": "display_data"
    }
   ],
   "source": [
    "y_by_average = average(test_scores_norm)\n",
    "plt.hist(y_by_average, bins='auto') # arguments are passed to np.histogram\n",
    "plt.title(\"Combination by average\")\n",
    "plt.show()"
   ]
  },
  {
   "cell_type": "code",
   "execution_count": 28,
   "metadata": {},
   "outputs": [
    {
     "data": {
      "text/plain": [
       "0    450\n",
       "1     50\n",
       "Name: y_by_average_cluster, dtype: int64"
      ]
     },
     "execution_count": 28,
     "metadata": {},
     "output_type": "execute_result"
    }
   ],
   "source": [
    "#df_test = pd.DataFrame(X_test)\n",
    "df_test['y_by_average_score'] = y_by_average\n",
    "df_test['y_by_average_cluster'] = np.where(df_test['y_by_average_score']<0, 0, 1)\n",
    "df_test['y_by_average_cluster'].value_counts()"
   ]
  },
  {
   "cell_type": "code",
   "execution_count": 29,
   "metadata": {
    "scrolled": true
   },
   "outputs": [
    {
     "data": {
      "text/html": [
       "<div>\n",
       "<style scoped>\n",
       "    .dataframe tbody tr th:only-of-type {\n",
       "        vertical-align: middle;\n",
       "    }\n",
       "\n",
       "    .dataframe tbody tr th {\n",
       "        vertical-align: top;\n",
       "    }\n",
       "\n",
       "    .dataframe thead th {\n",
       "        text-align: right;\n",
       "    }\n",
       "</style>\n",
       "<table border=\"1\" class=\"dataframe\">\n",
       "  <thead>\n",
       "    <tr style=\"text-align: right;\">\n",
       "      <th></th>\n",
       "      <th>0</th>\n",
       "      <th>1</th>\n",
       "      <th>2</th>\n",
       "      <th>3</th>\n",
       "      <th>4</th>\n",
       "      <th>5</th>\n",
       "      <th>6</th>\n",
       "      <th>7</th>\n",
       "      <th>8</th>\n",
       "      <th>9</th>\n",
       "      <th>score</th>\n",
       "      <th>cluster</th>\n",
       "      <th>y_by_average_score</th>\n",
       "    </tr>\n",
       "    <tr>\n",
       "      <th>y_by_average_cluster</th>\n",
       "      <th></th>\n",
       "      <th></th>\n",
       "      <th></th>\n",
       "      <th></th>\n",
       "      <th></th>\n",
       "      <th></th>\n",
       "      <th></th>\n",
       "      <th></th>\n",
       "      <th></th>\n",
       "      <th></th>\n",
       "      <th></th>\n",
       "      <th></th>\n",
       "      <th></th>\n",
       "    </tr>\n",
       "  </thead>\n",
       "  <tbody>\n",
       "    <tr>\n",
       "      <td>0</td>\n",
       "      <td>4.997642</td>\n",
       "      <td>4.998571</td>\n",
       "      <td>5.004065</td>\n",
       "      <td>5.000697</td>\n",
       "      <td>5.005093</td>\n",
       "      <td>5.007802</td>\n",
       "      <td>5.009865</td>\n",
       "      <td>5.004065</td>\n",
       "      <td>5.001373</td>\n",
       "      <td>5.000961</td>\n",
       "      <td>0.237917</td>\n",
       "      <td>0</td>\n",
       "      <td>-0.331814</td>\n",
       "    </tr>\n",
       "    <tr>\n",
       "      <td>1</td>\n",
       "      <td>-0.702352</td>\n",
       "      <td>0.084016</td>\n",
       "      <td>-0.087155</td>\n",
       "      <td>0.524469</td>\n",
       "      <td>-0.085386</td>\n",
       "      <td>0.573409</td>\n",
       "      <td>-0.053550</td>\n",
       "      <td>-0.199733</td>\n",
       "      <td>0.220779</td>\n",
       "      <td>-0.340144</td>\n",
       "      <td>9.427395</td>\n",
       "      <td>1</td>\n",
       "      <td>2.922316</td>\n",
       "    </tr>\n",
       "  </tbody>\n",
       "</table>\n",
       "</div>"
      ],
      "text/plain": [
       "                             0         1         2         3         4  \\\n",
       "y_by_average_cluster                                                     \n",
       "0                     4.997642  4.998571  5.004065  5.000697  5.005093   \n",
       "1                    -0.702352  0.084016 -0.087155  0.524469 -0.085386   \n",
       "\n",
       "                             5         6         7         8         9  \\\n",
       "y_by_average_cluster                                                     \n",
       "0                     5.007802  5.009865  5.004065  5.001373  5.000961   \n",
       "1                     0.573409 -0.053550 -0.199733  0.220779 -0.340144   \n",
       "\n",
       "                         score  cluster  y_by_average_score  \n",
       "y_by_average_cluster                                         \n",
       "0                     0.237917        0           -0.331814  \n",
       "1                     9.427395        1            2.922316  "
      ]
     },
     "execution_count": 29,
     "metadata": {},
     "output_type": "execute_result"
    }
   ],
   "source": [
    "df_test.groupby('y_by_average_cluster').mean()"
   ]
  },
  {
   "cell_type": "code",
   "execution_count": 30,
   "metadata": {},
   "outputs": [
    {
     "data": {
      "text/plain": [
       "(50, 14)"
      ]
     },
     "execution_count": 30,
     "metadata": {},
     "output_type": "execute_result"
    }
   ],
   "source": [
    "qq = df_test[df_test['y_by_average_cluster'] ==1]\n",
    "qq.shape"
   ]
  },
  {
   "cell_type": "code",
   "execution_count": 31,
   "metadata": {},
   "outputs": [
    {
     "data": {
      "text/plain": [
       "(47, 14)"
      ]
     },
     "execution_count": 31,
     "metadata": {},
     "output_type": "execute_result"
    }
   ],
   "source": [
    "qq = df_test[df_test['y_by_average_score'] > 2.484086]\n",
    "qq.shape"
   ]
  },
  {
   "cell_type": "markdown",
   "metadata": {},
   "source": [
    "# maximization"
   ]
  },
  {
   "cell_type": "code",
   "execution_count": 32,
   "metadata": {},
   "outputs": [
    {
     "data": {
      "image/png": "[encoded data removed]",
      "text/plain": [
       "<Figure size 432x288 with 1 Axes>"
      ]
     },
     "metadata": {
      "needs_background": "light"
     },
     "output_type": "display_data"
    }
   ],
   "source": [
    "y_by_maximization = maximization(test_scores_norm)             \n",
    "plt.hist(y_by_maximization, bins='auto')  # arguments are passed to np.histogram\n",
    "plt.title(\"Combination by max\")\n",
    "plt.show()"
   ]
  },
  {
   "cell_type": "code",
   "execution_count": 33,
   "metadata": {},
   "outputs": [
    {
     "data": {
      "text/plain": [
       "0    450\n",
       "1     50\n",
       "Name: y_by_maximization_cluster, dtype: int64"
      ]
     },
     "execution_count": 33,
     "metadata": {},
     "output_type": "execute_result"
    }
   ],
   "source": [
    "#df_test = pd.DataFrame(X_test)\n",
    "df_test['y_by_maximization_score'] = y_by_maximization\n",
    "df_test['y_by_maximization_cluster'] = np.where(df_test['y_by_maximization_score']<0, 0, 1)\n",
    "df_test['y_by_maximization_cluster'].value_counts()"
   ]
  },
  {
   "cell_type": "code",
   "execution_count": 34,
   "metadata": {},
   "outputs": [
    {
     "data": {
      "text/html": [
       "<div>\n",
       "<style scoped>\n",
       "    .dataframe tbody tr th:only-of-type {\n",
       "        vertical-align: middle;\n",
       "    }\n",
       "\n",
       "    .dataframe tbody tr th {\n",
       "        vertical-align: top;\n",
       "    }\n",
       "\n",
       "    .dataframe thead th {\n",
       "        text-align: right;\n",
       "    }\n",
       "</style>\n",
       "<table border=\"1\" class=\"dataframe\">\n",
       "  <thead>\n",
       "    <tr style=\"text-align: right;\">\n",
       "      <th></th>\n",
       "      <th>0</th>\n",
       "      <th>1</th>\n",
       "      <th>2</th>\n",
       "      <th>3</th>\n",
       "      <th>4</th>\n",
       "      <th>5</th>\n",
       "      <th>6</th>\n",
       "      <th>7</th>\n",
       "      <th>8</th>\n",
       "      <th>9</th>\n",
       "      <th>score</th>\n",
       "      <th>cluster</th>\n",
       "      <th>y_by_average_score</th>\n",
       "      <th>y_by_average_cluster</th>\n",
       "      <th>y_by_maximization_score</th>\n",
       "    </tr>\n",
       "    <tr>\n",
       "      <th>y_by_maximization_cluster</th>\n",
       "      <th></th>\n",
       "      <th></th>\n",
       "      <th></th>\n",
       "      <th></th>\n",
       "      <th></th>\n",
       "      <th></th>\n",
       "      <th></th>\n",
       "      <th></th>\n",
       "      <th></th>\n",
       "      <th></th>\n",
       "      <th></th>\n",
       "      <th></th>\n",
       "      <th></th>\n",
       "      <th></th>\n",
       "      <th></th>\n",
       "    </tr>\n",
       "  </thead>\n",
       "  <tbody>\n",
       "    <tr>\n",
       "      <td>0</td>\n",
       "      <td>4.997642</td>\n",
       "      <td>4.998571</td>\n",
       "      <td>5.004065</td>\n",
       "      <td>5.000697</td>\n",
       "      <td>5.005093</td>\n",
       "      <td>5.007802</td>\n",
       "      <td>5.009865</td>\n",
       "      <td>5.004065</td>\n",
       "      <td>5.001373</td>\n",
       "      <td>5.000961</td>\n",
       "      <td>0.237917</td>\n",
       "      <td>0</td>\n",
       "      <td>-0.331814</td>\n",
       "      <td>0</td>\n",
       "      <td>-0.328871</td>\n",
       "    </tr>\n",
       "    <tr>\n",
       "      <td>1</td>\n",
       "      <td>-0.702352</td>\n",
       "      <td>0.084016</td>\n",
       "      <td>-0.087155</td>\n",
       "      <td>0.524469</td>\n",
       "      <td>-0.085386</td>\n",
       "      <td>0.573409</td>\n",
       "      <td>-0.053550</td>\n",
       "      <td>-0.199733</td>\n",
       "      <td>0.220779</td>\n",
       "      <td>-0.340144</td>\n",
       "      <td>9.427395</td>\n",
       "      <td>1</td>\n",
       "      <td>2.922316</td>\n",
       "      <td>1</td>\n",
       "      <td>3.215727</td>\n",
       "    </tr>\n",
       "  </tbody>\n",
       "</table>\n",
       "</div>"
      ],
      "text/plain": [
       "                                  0         1         2         3         4  \\\n",
       "y_by_maximization_cluster                                                     \n",
       "0                          4.997642  4.998571  5.004065  5.000697  5.005093   \n",
       "1                         -0.702352  0.084016 -0.087155  0.524469 -0.085386   \n",
       "\n",
       "                                  5         6         7         8         9  \\\n",
       "y_by_maximization_cluster                                                     \n",
       "0                          5.007802  5.009865  5.004065  5.001373  5.000961   \n",
       "1                          0.573409 -0.053550 -0.199733  0.220779 -0.340144   \n",
       "\n",
       "                              score  cluster  y_by_average_score  \\\n",
       "y_by_maximization_cluster                                          \n",
       "0                          0.237917        0           -0.331814   \n",
       "1                          9.427395        1            2.922316   \n",
       "\n",
       "                           y_by_average_cluster  y_by_maximization_score  \n",
       "y_by_maximization_cluster                                                 \n",
       "0                                             0                -0.328871  \n",
       "1                                             1                 3.215727  "
      ]
     },
     "execution_count": 34,
     "metadata": {},
     "output_type": "execute_result"
    }
   ],
   "source": [
    "df_test.groupby('y_by_maximization_cluster').mean()"
   ]
  },
  {
   "cell_type": "markdown",
   "metadata": {},
   "source": [
    "## avg of max"
   ]
  },
  {
   "cell_type": "code",
   "execution_count": 35,
   "metadata": {},
   "outputs": [
    {
     "data": {
      "image/png": "[encoded data removed]",
      "text/plain": [
       "<Figure size 432x288 with 1 Axes>"
      ]
     },
     "metadata": {
      "needs_background": "light"
     },
     "output_type": "display_data"
    }
   ],
   "source": [
    "# Combination by aom\n",
    "y_by_aom = aom(test_scores_norm, n_buckets=5,method='dynamic')\n",
    "             \n",
    "plt.hist(y_by_aom, bins='auto')  # arguments are passed to np.histogram\n",
    "plt.title(\"Average of Maximum\")\n",
    "plt.show()"
   ]
  },
  {
   "cell_type": "code",
   "execution_count": 36,
   "metadata": {},
   "outputs": [
    {
     "data": {
      "text/plain": [
       "0    450\n",
       "1     50\n",
       "Name: y_by_aom_cluster, dtype: int64"
      ]
     },
     "execution_count": 36,
     "metadata": {},
     "output_type": "execute_result"
    }
   ],
   "source": [
    "#df_test = pd.DataFrame(X_test)\n",
    "df_test['y_by_aom_score'] = y_by_aom\n",
    "df_test['y_by_aom_cluster'] = np.where(df_test['y_by_aom_score']<0, 0, 1)\n",
    "df_test['y_by_aom_cluster'].value_counts()"
   ]
  },
  {
   "cell_type": "code",
   "execution_count": 37,
   "metadata": {},
   "outputs": [
    {
     "data": {
      "text/html": [
       "<div>\n",
       "<style scoped>\n",
       "    .dataframe tbody tr th:only-of-type {\n",
       "        vertical-align: middle;\n",
       "    }\n",
       "\n",
       "    .dataframe tbody tr th {\n",
       "        vertical-align: top;\n",
       "    }\n",
       "\n",
       "    .dataframe thead th {\n",
       "        text-align: right;\n",
       "    }\n",
       "</style>\n",
       "<table border=\"1\" class=\"dataframe\">\n",
       "  <thead>\n",
       "    <tr style=\"text-align: right;\">\n",
       "      <th></th>\n",
       "      <th>0</th>\n",
       "      <th>1</th>\n",
       "      <th>2</th>\n",
       "      <th>3</th>\n",
       "      <th>4</th>\n",
       "      <th>5</th>\n",
       "      <th>6</th>\n",
       "      <th>7</th>\n",
       "      <th>8</th>\n",
       "      <th>9</th>\n",
       "      <th>score</th>\n",
       "      <th>cluster</th>\n",
       "      <th>y_by_average_score</th>\n",
       "      <th>y_by_average_cluster</th>\n",
       "      <th>y_by_maximization_score</th>\n",
       "      <th>y_by_maximization_cluster</th>\n",
       "      <th>y_by_aom_score</th>\n",
       "    </tr>\n",
       "    <tr>\n",
       "      <th>y_by_aom_cluster</th>\n",
       "      <th></th>\n",
       "      <th></th>\n",
       "      <th></th>\n",
       "      <th></th>\n",
       "      <th></th>\n",
       "      <th></th>\n",
       "      <th></th>\n",
       "      <th></th>\n",
       "      <th></th>\n",
       "      <th></th>\n",
       "      <th></th>\n",
       "      <th></th>\n",
       "      <th></th>\n",
       "      <th></th>\n",
       "      <th></th>\n",
       "      <th></th>\n",
       "      <th></th>\n",
       "    </tr>\n",
       "  </thead>\n",
       "  <tbody>\n",
       "    <tr>\n",
       "      <td>0</td>\n",
       "      <td>4.997642</td>\n",
       "      <td>4.998571</td>\n",
       "      <td>5.004065</td>\n",
       "      <td>5.000697</td>\n",
       "      <td>5.005093</td>\n",
       "      <td>5.007802</td>\n",
       "      <td>5.009865</td>\n",
       "      <td>5.004065</td>\n",
       "      <td>5.001373</td>\n",
       "      <td>5.000961</td>\n",
       "      <td>0.237917</td>\n",
       "      <td>0</td>\n",
       "      <td>-0.331814</td>\n",
       "      <td>0</td>\n",
       "      <td>-0.328871</td>\n",
       "      <td>0</td>\n",
       "      <td>-0.331004</td>\n",
       "    </tr>\n",
       "    <tr>\n",
       "      <td>1</td>\n",
       "      <td>-0.702352</td>\n",
       "      <td>0.084016</td>\n",
       "      <td>-0.087155</td>\n",
       "      <td>0.524469</td>\n",
       "      <td>-0.085386</td>\n",
       "      <td>0.573409</td>\n",
       "      <td>-0.053550</td>\n",
       "      <td>-0.199733</td>\n",
       "      <td>0.220779</td>\n",
       "      <td>-0.340144</td>\n",
       "      <td>9.427395</td>\n",
       "      <td>1</td>\n",
       "      <td>2.922316</td>\n",
       "      <td>1</td>\n",
       "      <td>3.215727</td>\n",
       "      <td>1</td>\n",
       "      <td>3.001021</td>\n",
       "    </tr>\n",
       "  </tbody>\n",
       "</table>\n",
       "</div>"
      ],
      "text/plain": [
       "                         0         1         2         3         4         5  \\\n",
       "y_by_aom_cluster                                                               \n",
       "0                 4.997642  4.998571  5.004065  5.000697  5.005093  5.007802   \n",
       "1                -0.702352  0.084016 -0.087155  0.524469 -0.085386  0.573409   \n",
       "\n",
       "                         6         7         8         9     score  cluster  \\\n",
       "y_by_aom_cluster                                                              \n",
       "0                 5.009865  5.004065  5.001373  5.000961  0.237917        0   \n",
       "1                -0.053550 -0.199733  0.220779 -0.340144  9.427395        1   \n",
       "\n",
       "                  y_by_average_score  y_by_average_cluster  \\\n",
       "y_by_aom_cluster                                             \n",
       "0                          -0.331814                     0   \n",
       "1                           2.922316                     1   \n",
       "\n",
       "                  y_by_maximization_score  y_by_maximization_cluster  \\\n",
       "y_by_aom_cluster                                                       \n",
       "0                               -0.328871                          0   \n",
       "1                                3.215727                          1   \n",
       "\n",
       "                  y_by_aom_score  \n",
       "y_by_aom_cluster                  \n",
       "0                      -0.331004  \n",
       "1                       3.001021  "
      ]
     },
     "execution_count": 37,
     "metadata": {},
     "output_type": "execute_result"
    }
   ],
   "source": [
    "df_test.groupby('y_by_aom_cluster').mean()"
   ]
  },
  {
   "cell_type": "markdown",
   "metadata": {},
   "source": [
    "# max of avg"
   ]
  },
  {
   "cell_type": "code",
   "execution_count": 38,
   "metadata": {},
   "outputs": [
    {
     "data": {
      "image/png": "[encoded data removed]",
      "text/plain": [
       "<Figure size 432x288 with 1 Axes>"
      ]
     },
     "metadata": {
      "needs_background": "light"
     },
     "output_type": "display_data"
    }
   ],
   "source": [
    "# Combination by moa\n",
    "y_by_moa = moa(test_scores_norm, n_buckets=5, method='dynamic')\n",
    "plt.hist(y_by_moa, bins='auto')  # arguments are passed to np.histogram\n",
    "plt.title(\"Maximum of Average\")\n",
    "plt.show()"
   ]
  },
  {
   "cell_type": "code",
   "execution_count": 39,
   "metadata": {},
   "outputs": [
    {
     "data": {
      "text/plain": [
       "0    450\n",
       "1     50\n",
       "Name: y_by_moa_cluster, dtype: int64"
      ]
     },
     "execution_count": 39,
     "metadata": {},
     "output_type": "execute_result"
    }
   ],
   "source": [
    "#df_test = pd.DataFrame(X_test)\n",
    "df_test['y_by_moa_score'] = y_by_moa\n",
    "df_test['y_by_moa_cluster'] = np.where(df_test['y_by_moa_score']<0, 0, 1)\n",
    "df_test['y_by_moa_cluster'].value_counts()"
   ]
  },
  {
   "cell_type": "code",
   "execution_count": 40,
   "metadata": {},
   "outputs": [
    {
     "data": {
      "text/html": [
       "<div>\n",
       "<style scoped>\n",
       "    .dataframe tbody tr th:only-of-type {\n",
       "        vertical-align: middle;\n",
       "    }\n",
       "\n",
       "    .dataframe tbody tr th {\n",
       "        vertical-align: top;\n",
       "    }\n",
       "\n",
       "    .dataframe thead th {\n",
       "        text-align: right;\n",
       "    }\n",
       "</style>\n",
       "<table border=\"1\" class=\"dataframe\">\n",
       "  <thead>\n",
       "    <tr style=\"text-align: right;\">\n",
       "      <th></th>\n",
       "      <th>0</th>\n",
       "      <th>1</th>\n",
       "      <th>2</th>\n",
       "      <th>3</th>\n",
       "      <th>4</th>\n",
       "      <th>5</th>\n",
       "      <th>6</th>\n",
       "      <th>7</th>\n",
       "      <th>8</th>\n",
       "      <th>9</th>\n",
       "      <th>score</th>\n",
       "      <th>cluster</th>\n",
       "      <th>y_by_average_score</th>\n",
       "      <th>y_by_average_cluster</th>\n",
       "      <th>y_by_maximization_score</th>\n",
       "      <th>y_by_maximization_cluster</th>\n",
       "      <th>y_by_aom_score</th>\n",
       "      <th>y_by_aom_cluster</th>\n",
       "      <th>y_by_moa_score</th>\n",
       "    </tr>\n",
       "    <tr>\n",
       "      <th>y_by_moa_cluster</th>\n",
       "      <th></th>\n",
       "      <th></th>\n",
       "      <th></th>\n",
       "      <th></th>\n",
       "      <th></th>\n",
       "      <th></th>\n",
       "      <th></th>\n",
       "      <th></th>\n",
       "      <th></th>\n",
       "      <th></th>\n",
       "      <th></th>\n",
       "      <th></th>\n",
       "      <th></th>\n",
       "      <th></th>\n",
       "      <th></th>\n",
       "      <th></th>\n",
       "      <th></th>\n",
       "      <th></th>\n",
       "      <th></th>\n",
       "    </tr>\n",
       "  </thead>\n",
       "  <tbody>\n",
       "    <tr>\n",
       "      <td>0</td>\n",
       "      <td>4.997642</td>\n",
       "      <td>4.998571</td>\n",
       "      <td>5.004065</td>\n",
       "      <td>5.000697</td>\n",
       "      <td>5.005093</td>\n",
       "      <td>5.007802</td>\n",
       "      <td>5.009865</td>\n",
       "      <td>5.004065</td>\n",
       "      <td>5.001373</td>\n",
       "      <td>5.000961</td>\n",
       "      <td>0.237917</td>\n",
       "      <td>0</td>\n",
       "      <td>-0.331814</td>\n",
       "      <td>0</td>\n",
       "      <td>-0.328871</td>\n",
       "      <td>0</td>\n",
       "      <td>-0.331004</td>\n",
       "      <td>0</td>\n",
       "      <td>-0.330533</td>\n",
       "    </tr>\n",
       "    <tr>\n",
       "      <td>1</td>\n",
       "      <td>-0.702352</td>\n",
       "      <td>0.084016</td>\n",
       "      <td>-0.087155</td>\n",
       "      <td>0.524469</td>\n",
       "      <td>-0.085386</td>\n",
       "      <td>0.573409</td>\n",
       "      <td>-0.053550</td>\n",
       "      <td>-0.199733</td>\n",
       "      <td>0.220779</td>\n",
       "      <td>-0.340144</td>\n",
       "      <td>9.427395</td>\n",
       "      <td>1</td>\n",
       "      <td>2.922316</td>\n",
       "      <td>1</td>\n",
       "      <td>3.215727</td>\n",
       "      <td>1</td>\n",
       "      <td>3.001021</td>\n",
       "      <td>1</td>\n",
       "      <td>3.075120</td>\n",
       "    </tr>\n",
       "  </tbody>\n",
       "</table>\n",
       "</div>"
      ],
      "text/plain": [
       "                         0         1         2         3         4         5  \\\n",
       "y_by_moa_cluster                                                               \n",
       "0                 4.997642  4.998571  5.004065  5.000697  5.005093  5.007802   \n",
       "1                -0.702352  0.084016 -0.087155  0.524469 -0.085386  0.573409   \n",
       "\n",
       "                         6         7         8         9     score  cluster  \\\n",
       "y_by_moa_cluster                                                              \n",
       "0                 5.009865  5.004065  5.001373  5.000961  0.237917        0   \n",
       "1                -0.053550 -0.199733  0.220779 -0.340144  9.427395        1   \n",
       "\n",
       "                  y_by_average_score  y_by_average_cluster  \\\n",
       "y_by_moa_cluster                                             \n",
       "0                          -0.331814                     0   \n",
       "1                           2.922316                     1   \n",
       "\n",
       "                  y_by_maximization_score  y_by_maximization_cluster  \\\n",
       "y_by_moa_cluster                                                       \n",
       "0                               -0.328871                          0   \n",
       "1                                3.215727                          1   \n",
       "\n",
       "                  y_by_aom_score  y_by_aom_cluster  y_by_moa_score  \n",
       "y_by_moa_cluster                                                    \n",
       "0                      -0.331004                 0       -0.330533  \n",
       "1                       3.001021                 1        3.075120  "
      ]
     },
     "execution_count": 40,
     "metadata": {},
     "output_type": "execute_result"
    }
   ],
   "source": [
    "df_test.groupby('y_by_moa_cluster').mean()"
   ]
  },
  {
   "cell_type": "code",
   "execution_count": 77,
   "metadata": {},
   "outputs": [
    {
     "data": {
      "text/plain": [
       "(500, 20)"
      ]
     },
     "execution_count": 77,
     "metadata": {},
     "output_type": "execute_result"
    }
   ],
   "source": [
    "df_test.shape"
   ]
  },
  {
   "cell_type": "markdown",
   "metadata": {},
   "source": [
    "# selecting outliers that match according to all clusters"
   ]
  },
  {
   "cell_type": "code",
   "execution_count": 41,
   "metadata": {},
   "outputs": [],
   "source": [
    "clusters = df_test[['y_by_average_cluster', 'y_by_maximization_cluster', 'y_by_aom_cluster', 'y_by_moa_cluster']]"
   ]
  },
  {
   "cell_type": "code",
   "execution_count": 42,
   "metadata": {},
   "outputs": [
    {
     "data": {
      "text/html": [
       "<div>\n",
       "<style scoped>\n",
       "    .dataframe tbody tr th:only-of-type {\n",
       "        vertical-align: middle;\n",
       "    }\n",
       "\n",
       "    .dataframe tbody tr th {\n",
       "        vertical-align: top;\n",
       "    }\n",
       "\n",
       "    .dataframe thead th {\n",
       "        text-align: right;\n",
       "    }\n",
       "</style>\n",
       "<table border=\"1\" class=\"dataframe\">\n",
       "  <thead>\n",
       "    <tr style=\"text-align: right;\">\n",
       "      <th></th>\n",
       "      <th>y_by_average_cluster</th>\n",
       "      <th>y_by_maximization_cluster</th>\n",
       "      <th>y_by_aom_cluster</th>\n",
       "      <th>y_by_moa_cluster</th>\n",
       "    </tr>\n",
       "  </thead>\n",
       "  <tbody>\n",
       "    <tr>\n",
       "      <td>0</td>\n",
       "      <td>0</td>\n",
       "      <td>0</td>\n",
       "      <td>0</td>\n",
       "      <td>0</td>\n",
       "    </tr>\n",
       "    <tr>\n",
       "      <td>1</td>\n",
       "      <td>0</td>\n",
       "      <td>0</td>\n",
       "      <td>0</td>\n",
       "      <td>0</td>\n",
       "    </tr>\n",
       "    <tr>\n",
       "      <td>2</td>\n",
       "      <td>0</td>\n",
       "      <td>0</td>\n",
       "      <td>0</td>\n",
       "      <td>0</td>\n",
       "    </tr>\n",
       "    <tr>\n",
       "      <td>3</td>\n",
       "      <td>0</td>\n",
       "      <td>0</td>\n",
       "      <td>0</td>\n",
       "      <td>0</td>\n",
       "    </tr>\n",
       "    <tr>\n",
       "      <td>4</td>\n",
       "      <td>0</td>\n",
       "      <td>0</td>\n",
       "      <td>0</td>\n",
       "      <td>0</td>\n",
       "    </tr>\n",
       "    <tr>\n",
       "      <td>...</td>\n",
       "      <td>...</td>\n",
       "      <td>...</td>\n",
       "      <td>...</td>\n",
       "      <td>...</td>\n",
       "    </tr>\n",
       "    <tr>\n",
       "      <td>495</td>\n",
       "      <td>1</td>\n",
       "      <td>1</td>\n",
       "      <td>1</td>\n",
       "      <td>1</td>\n",
       "    </tr>\n",
       "    <tr>\n",
       "      <td>496</td>\n",
       "      <td>1</td>\n",
       "      <td>1</td>\n",
       "      <td>1</td>\n",
       "      <td>1</td>\n",
       "    </tr>\n",
       "    <tr>\n",
       "      <td>497</td>\n",
       "      <td>1</td>\n",
       "      <td>1</td>\n",
       "      <td>1</td>\n",
       "      <td>1</td>\n",
       "    </tr>\n",
       "    <tr>\n",
       "      <td>498</td>\n",
       "      <td>1</td>\n",
       "      <td>1</td>\n",
       "      <td>1</td>\n",
       "      <td>1</td>\n",
       "    </tr>\n",
       "    <tr>\n",
       "      <td>499</td>\n",
       "      <td>1</td>\n",
       "      <td>1</td>\n",
       "      <td>1</td>\n",
       "      <td>1</td>\n",
       "    </tr>\n",
       "  </tbody>\n",
       "</table>\n",
       "<p>500 rows × 4 columns</p>\n",
       "</div>"
      ],
      "text/plain": [
       "     y_by_average_cluster  y_by_maximization_cluster  y_by_aom_cluster  \\\n",
       "0                       0                          0                 0   \n",
       "1                       0                          0                 0   \n",
       "2                       0                          0                 0   \n",
       "3                       0                          0                 0   \n",
       "4                       0                          0                 0   \n",
       "..                    ...                        ...               ...   \n",
       "495                     1                          1                 1   \n",
       "496                     1                          1                 1   \n",
       "497                     1                          1                 1   \n",
       "498                     1                          1                 1   \n",
       "499                     1                          1                 1   \n",
       "\n",
       "     y_by_moa_cluster  \n",
       "0                   0  \n",
       "1                   0  \n",
       "2                   0  \n",
       "3                   0  \n",
       "4                   0  \n",
       "..                ...  \n",
       "495                 1  \n",
       "496                 1  \n",
       "497                 1  \n",
       "498                 1  \n",
       "499                 1  \n",
       "\n",
       "[500 rows x 4 columns]"
      ]
     },
     "execution_count": 42,
     "metadata": {},
     "output_type": "execute_result"
    }
   ],
   "source": [
    "clusters"
   ]
  },
  {
   "cell_type": "code",
   "execution_count": 43,
   "metadata": {},
   "outputs": [],
   "source": [
    "outliers_by_algos = clusters[ \n",
    "          (clusters['y_by_average_cluster'] == 1) & \n",
    "          (clusters['y_by_maximization_cluster']==1) &\n",
    "          (clusters['y_by_aom_cluster']==1)  &\n",
    "          (clusters['y_by_moa_cluster']==1)            ]"
   ]
  },
  {
   "cell_type": "code",
   "execution_count": 44,
   "metadata": {},
   "outputs": [
    {
     "data": {
      "text/plain": [
       "(50, 4)"
      ]
     },
     "execution_count": 44,
     "metadata": {},
     "output_type": "execute_result"
    }
   ],
   "source": [
    "outliers_by_algos.shape"
   ]
  },
  {
   "cell_type": "code",
   "execution_count": 45,
   "metadata": {},
   "outputs": [
    {
     "data": {
      "text/plain": [
       "Int64Index([450, 451, 452, 453, 454, 455, 456, 457, 458, 459, 460, 461, 462,\n",
       "            463, 464, 465, 466, 467, 468, 469, 470, 471, 472, 473, 474, 475,\n",
       "            476, 477, 478, 479, 480, 481, 482, 483, 484, 485, 486, 487, 488,\n",
       "            489, 490, 491, 492, 493, 494, 495, 496, 497, 498, 499],\n",
       "           dtype='int64')"
      ]
     },
     "execution_count": 45,
     "metadata": {},
     "output_type": "execute_result"
    }
   ],
   "source": [
    " outliers_by_algos.index"
   ]
  },
  {
   "cell_type": "code",
   "execution_count": 48,
   "metadata": {},
   "outputs": [],
   "source": [
    "oo = clf.fit_predict(total_df.drop(columns=['target']))"
   ]
  },
  {
   "cell_type": "code",
   "execution_count": 49,
   "metadata": {},
   "outputs": [
    {
     "data": {
      "text/plain": [
       "numpy.ndarray"
      ]
     },
     "execution_count": 49,
     "metadata": {},
     "output_type": "execute_result"
    }
   ],
   "source": [
    "type(oo)"
   ]
  },
  {
   "cell_type": "code",
   "execution_count": 71,
   "metadata": {},
   "outputs": [],
   "source": [
    "aa = pd.DataFrame(oo,columns=['outlier_yes_no'])\n",
    "aa = shuffle(aa)\n",
    "vals = aa['outlier_yes_no'].value_counts()"
   ]
  },
  {
   "cell_type": "code",
   "execution_count": 72,
   "metadata": {},
   "outputs": [],
   "source": [
    "vals = vals.sort_index()"
   ]
  },
  {
   "cell_type": "code",
   "execution_count": 73,
   "metadata": {},
   "outputs": [
    {
     "data": {
      "text/plain": [
       "0    900\n",
       "1    100\n",
       "Name: outlier_yes_no, dtype: int64"
      ]
     },
     "execution_count": 73,
     "metadata": {},
     "output_type": "execute_result"
    }
   ],
   "source": [
    "vals"
   ]
  },
  {
   "cell_type": "code",
   "execution_count": 76,
   "metadata": {},
   "outputs": [
    {
     "data": {
      "text/plain": [
       "(100, 1)"
      ]
     },
     "execution_count": 76,
     "metadata": {},
     "output_type": "execute_result"
    }
   ],
   "source": [
    "aa[aa['outlier_yes_no']==1].shape"
   ]
  },
  {
   "cell_type": "code",
   "execution_count": null,
   "metadata": {},
   "outputs": [],
   "source": []
  },
  {
   "cell_type": "code",
   "execution_count": null,
   "metadata": {},
   "outputs": [],
   "source": []
  },
  {
   "cell_type": "code",
   "execution_count": null,
   "metadata": {},
   "outputs": [],
   "source": []
  },
  {
   "cell_type": "code",
   "execution_count": null,
   "metadata": {},
   "outputs": [],
   "source": []
  },
  {
   "cell_type": "code",
   "execution_count": null,
   "metadata": {},
   "outputs": [],
   "source": []
  },
  {
   "cell_type": "code",
   "execution_count": null,
   "metadata": {},
   "outputs": [],
   "source": []
  },
  {
   "cell_type": "code",
   "execution_count": null,
   "metadata": {},
   "outputs": [],
   "source": []
  },
  {
   "cell_type": "code",
   "execution_count": null,
   "metadata": {},
   "outputs": [],
   "source": []
  }
 ],
 "metadata": {
  "kernelspec": {
   "display_name": "Python 3",
   "language": "python",
   "name": "python3"
  },
  "language_info": {
   "codemirror_mode": {
    "name": "ipython",
    "version": 3
   },
   "file_extension": ".py",
   "mimetype": "text/x-python",
   "name": "python",
   "nbconvert_exporter": "python",
   "pygments_lexer": "ipython3",
   "version": "3.7.0"
  }
 },
 "nbformat": 4,
 "nbformat_minor": 2
}
