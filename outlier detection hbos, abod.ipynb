from sklearn.cluster import DBSCAN
from sklearn.ensemble import IsolationForest

import numpy as np
import pandas as pd
from sklearn.model_selection import train_test_split
import matplotlib.pyplot as plt
import warnings
warnings.filterwarnings("ignore")
from pyod.models.combination import aom, moa, average, maximization
from pyod.utils.utility import standardizer
from pyod.models import abod,hbos,knn,mcd
from pyod.models.knn import KNN
from sklearn.utils import shuffle
