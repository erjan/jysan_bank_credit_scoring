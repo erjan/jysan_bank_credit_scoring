{
 "cells": [
  {
   "cell_type": "code",
   "execution_count": 12,
   "metadata": {},
   "outputs": [],
   "source": [
    "import numpy as np\n"
   ]
  },
  {
   "cell_type": "code",
   "execution_count": 31,
   "metadata": {},
   "outputs": [],
   "source": [
    "t = [[4,5,90],[3,4,8]]\n"
   ]
  },
  {
   "cell_type": "code",
   "execution_count": 32,
   "metadata": {},
   "outputs": [
    {
     "data": {
      "text/plain": [
       "array([[ 4,  5, 90],\n",
       "       [ 3,  4,  8]])"
      ]
     },
     "execution_count": 32,
     "metadata": {},
     "output_type": "execute_result"
    }
   ],
   "source": [
    "r = np.array(t)\n",
    "r"
   ]
  },
  {
   "cell_type": "code",
   "execution_count": 33,
   "metadata": {},
   "outputs": [
    {
     "data": {
      "text/plain": [
       "(2, 3)"
      ]
     },
     "execution_count": 33,
     "metadata": {},
     "output_type": "execute_result"
    }
   ],
   "source": [
    "r.shape"
   ]
  },
  {
   "cell_type": "code",
   "execution_count": 38,
   "metadata": {},
   "outputs": [
    {
     "data": {
      "text/plain": [
       "dtype('int32')"
      ]
     },
     "execution_count": 38,
     "metadata": {},
     "output_type": "execute_result"
    }
   ],
   "source": [
    "r.dtype"
   ]
  },
  {
   "cell_type": "code",
   "execution_count": 47,
   "metadata": {},
   "outputs": [
    {
     "data": {
      "text/plain": [
       "array([[7.74860419e-304, 7.74860419e-304, 7.74860419e-304],\n",
       "       [7.74860419e-304, 7.74860419e-304, 7.74860419e-304]])"
      ]
     },
     "execution_count": 47,
     "metadata": {},
     "output_type": "execute_result"
    }
   ],
   "source": [
    "np.ndarray([2,3])"
   ]
  },
  {
   "cell_type": "code",
   "execution_count": 48,
   "metadata": {},
   "outputs": [
    {
     "data": {
      "text/plain": [
       "array([[7.74860419e-304, 7.74860419e-304, 7.74860419e-304],\n",
       "       [7.74860419e-304, 7.74860419e-304, 7.74860419e-304]])"
      ]
     },
     "execution_count": 48,
     "metadata": {},
     "output_type": "execute_result"
    }
   ],
   "source": [
    "np.ndarray([2,3])"
   ]
  },
  {
   "cell_type": "code",
   "execution_count": 49,
   "metadata": {},
   "outputs": [
    {
     "data": {
      "text/plain": [
       "2"
      ]
     },
     "execution_count": 49,
     "metadata": {},
     "output_type": "execute_result"
    }
   ],
   "source": [
    "r.ndim"
   ]
  },
  {
   "cell_type": "code",
   "execution_count": 50,
   "metadata": {},
   "outputs": [
    {
     "data": {
      "text/plain": [
       "4"
      ]
     },
     "execution_count": 50,
     "metadata": {},
     "output_type": "execute_result"
    }
   ],
   "source": [
    "r.itemsize"
   ]
  },
  {
   "cell_type": "code",
   "execution_count": 53,
   "metadata": {},
   "outputs": [
    {
     "data": {
      "text/plain": [
       "24"
      ]
     },
     "execution_count": 53,
     "metadata": {},
     "output_type": "execute_result"
    }
   ],
   "source": [
    "r.nbytes"
   ]
  },
  {
   "cell_type": "code",
   "execution_count": 54,
   "metadata": {},
   "outputs": [
    {
     "data": {
      "text/plain": [
       "array([[ 4,  5, 90],\n",
       "       [ 3,  4,  8]])"
      ]
     },
     "execution_count": 54,
     "metadata": {},
     "output_type": "execute_result"
    }
   ],
   "source": [
    "r\n"
   ]
  },
  {
   "cell_type": "code",
   "execution_count": 55,
   "metadata": {},
   "outputs": [
    {
     "data": {
      "text/plain": [
       "<memory at 0x09F994E0>"
      ]
     },
     "execution_count": 55,
     "metadata": {},
     "output_type": "execute_result"
    }
   ],
   "source": [
    "r.data"
   ]
  },
  {
   "cell_type": "code",
   "execution_count": 56,
   "metadata": {},
   "outputs": [],
   "source": [
    "r.base"
   ]
  },
  {
   "cell_type": "code",
   "execution_count": 57,
   "metadata": {},
   "outputs": [
    {
     "name": "stdout",
     "output_type": "stream",
     "text": [
      "None\n"
     ]
    }
   ],
   "source": [
    "print(r.base)"
   ]
  },
  {
   "cell_type": "code",
   "execution_count": 76,
   "metadata": {},
   "outputs": [
    {
     "ename": "NameError",
     "evalue": "name 'numpy' is not defined",
     "output_type": "error",
     "traceback": [
      "\u001b[1;31m---------------------------------------------------------------------------\u001b[0m",
      "\u001b[1;31mNameError\u001b[0m                                 Traceback (most recent call last)",
      "\u001b[1;32m<ipython-input-76-043bff51e02d>\u001b[0m in \u001b[0;36m<module>\u001b[1;34m\u001b[0m\n\u001b[1;32m----> 1\u001b[1;33m \u001b[0mnumpy\u001b[0m\u001b[1;33m.\u001b[0m\u001b[0mndarray\u001b[0m\u001b[1;33m.\u001b[0m\u001b[0mflat\u001b[0m\u001b[1;33m(\u001b[0m\u001b[0mr\u001b[0m\u001b[1;33m)\u001b[0m\u001b[1;33m\u001b[0m\u001b[1;33m\u001b[0m\u001b[0m\n\u001b[0m",
      "\u001b[1;31mNameError\u001b[0m: name 'numpy' is not defined"
     ]
    }
   ],
   "source": [
    "numpy.ndarray.flat(r)"
   ]
  },
  {
   "cell_type": "code",
   "execution_count": 83,
   "metadata": {},
   "outputs": [],
   "source": [
    "r = np.arange(4,20).reshape(4,4)"
   ]
  },
  {
   "cell_type": "code",
   "execution_count": 84,
   "metadata": {},
   "outputs": [
    {
     "data": {
      "text/plain": [
       "array([[ 4,  5,  6,  7],\n",
       "       [ 8,  9, 10, 11],\n",
       "       [12, 13, 14, 15],\n",
       "       [16, 17, 18, 19]])"
      ]
     },
     "execution_count": 84,
     "metadata": {},
     "output_type": "execute_result"
    }
   ],
   "source": [
    "r"
   ]
  },
  {
   "cell_type": "code",
   "execution_count": 95,
   "metadata": {},
   "outputs": [
    {
     "data": {
      "text/plain": [
       "array([ 4,  5,  6,  7,  8,  9, 10, 11, 12, 13, 14, 15, 16, 17, 18, 19])"
      ]
     },
     "execution_count": 95,
     "metadata": {},
     "output_type": "execute_result"
    }
   ],
   "source": [
    "r.flatten()"
   ]
  },
  {
   "cell_type": "code",
   "execution_count": 96,
   "metadata": {},
   "outputs": [
    {
     "data": {
      "text/plain": [
       "array([[ 4,  5,  6,  7],\n",
       "       [ 8,  9, 10, 11],\n",
       "       [12, 13, 14, 15],\n",
       "       [16, 17, 18, 19]])"
      ]
     },
     "execution_count": 96,
     "metadata": {},
     "output_type": "execute_result"
    }
   ],
   "source": [
    "r"
   ]
  },
  {
   "cell_type": "code",
   "execution_count": 99,
   "metadata": {},
   "outputs": [
    {
     "data": {
      "text/plain": [
       "array([ 4,  5,  6,  7,  8,  9, 10, 11, 12, 13, 14, 15, 16, 17, 18, 19])"
      ]
     },
     "execution_count": 99,
     "metadata": {},
     "output_type": "execute_result"
    }
   ],
   "source": [
    "e = r.flatten()\n",
    "e"
   ]
  },
  {
   "cell_type": "code",
   "execution_count": 100,
   "metadata": {},
   "outputs": [
    {
     "data": {
      "text/plain": [
       "array([[ 4,  5,  6,  7],\n",
       "       [ 8,  9, 10, 11],\n",
       "       [12, 13, 14, 15],\n",
       "       [16, 17, 18, 19]])"
      ]
     },
     "execution_count": 100,
     "metadata": {},
     "output_type": "execute_result"
    }
   ],
   "source": [
    "r"
   ]
  },
  {
   "cell_type": "code",
   "execution_count": 106,
   "metadata": {},
   "outputs": [],
   "source": [
    "r = r.reshape(8,2,1,1,1,1,1)"
   ]
  },
  {
   "cell_type": "code",
   "execution_count": 107,
   "metadata": {},
   "outputs": [
    {
     "data": {
      "text/plain": [
       "array([[[[[[[ 4]]]]],\n",
       "\n",
       "\n",
       "\n",
       "\n",
       "        [[[[[ 5]]]]]],\n",
       "\n",
       "\n",
       "\n",
       "\n",
       "\n",
       "       [[[[[[ 6]]]]],\n",
       "\n",
       "\n",
       "\n",
       "\n",
       "        [[[[[ 7]]]]]],\n",
       "\n",
       "\n",
       "\n",
       "\n",
       "\n",
       "       [[[[[[ 8]]]]],\n",
       "\n",
       "\n",
       "\n",
       "\n",
       "        [[[[[ 9]]]]]],\n",
       "\n",
       "\n",
       "\n",
       "\n",
       "\n",
       "       [[[[[[10]]]]],\n",
       "\n",
       "\n",
       "\n",
       "\n",
       "        [[[[[11]]]]]],\n",
       "\n",
       "\n",
       "\n",
       "\n",
       "\n",
       "       [[[[[[12]]]]],\n",
       "\n",
       "\n",
       "\n",
       "\n",
       "        [[[[[13]]]]]],\n",
       "\n",
       "\n",
       "\n",
       "\n",
       "\n",
       "       [[[[[[14]]]]],\n",
       "\n",
       "\n",
       "\n",
       "\n",
       "        [[[[[15]]]]]],\n",
       "\n",
       "\n",
       "\n",
       "\n",
       "\n",
       "       [[[[[[16]]]]],\n",
       "\n",
       "\n",
       "\n",
       "\n",
       "        [[[[[17]]]]]],\n",
       "\n",
       "\n",
       "\n",
       "\n",
       "\n",
       "       [[[[[[18]]]]],\n",
       "\n",
       "\n",
       "\n",
       "\n",
       "        [[[[[19]]]]]]])"
      ]
     },
     "execution_count": 107,
     "metadata": {},
     "output_type": "execute_result"
    }
   ],
   "source": [
    "r"
   ]
  },
  {
   "cell_type": "code",
   "execution_count": 110,
   "metadata": {},
   "outputs": [],
   "source": [
    "r = r.flatten()"
   ]
  },
  {
   "cell_type": "code",
   "execution_count": 111,
   "metadata": {},
   "outputs": [
    {
     "data": {
      "text/plain": [
       "array([ 4,  5,  6,  7,  8,  9, 10, 11, 12, 13, 14, 15, 16, 17, 18, 19])"
      ]
     },
     "execution_count": 111,
     "metadata": {},
     "output_type": "execute_result"
    }
   ],
   "source": [
    "r"
   ]
  },
  {
   "cell_type": "code",
   "execution_count": 112,
   "metadata": {},
   "outputs": [
    {
     "data": {
      "text/plain": [
       "array([ 4,  5,  6,  7,  8,  9, 10, 11, 12, 13, 14, 15, 16, 17, 18, 19])"
      ]
     },
     "execution_count": 112,
     "metadata": {},
     "output_type": "execute_result"
    }
   ],
   "source": [
    "r"
   ]
  },
  {
   "cell_type": "code",
   "execution_count": 113,
   "metadata": {},
   "outputs": [],
   "source": [
    "r.fill(45)"
   ]
  },
  {
   "cell_type": "code",
   "execution_count": 114,
   "metadata": {},
   "outputs": [
    {
     "data": {
      "text/plain": [
       "array([45, 45, 45, 45, 45, 45, 45, 45, 45, 45, 45, 45, 45, 45, 45, 45])"
      ]
     },
     "execution_count": 114,
     "metadata": {},
     "output_type": "execute_result"
    }
   ],
   "source": [
    "r"
   ]
  },
  {
   "cell_type": "code",
   "execution_count": 115,
   "metadata": {},
   "outputs": [
    {
     "data": {
      "text/plain": [
       "(16,)"
      ]
     },
     "execution_count": 115,
     "metadata": {},
     "output_type": "execute_result"
    }
   ],
   "source": [
    "r.shape"
   ]
  },
  {
   "cell_type": "code",
   "execution_count": 117,
   "metadata": {},
   "outputs": [
    {
     "data": {
      "text/plain": [
       "(8, 2, 1, 1, 1)"
      ]
     },
     "execution_count": 117,
     "metadata": {},
     "output_type": "execute_result"
    }
   ],
   "source": [
    "r = r.reshape(8,2,1,1,1)\n",
    "r.shape"
   ]
  },
  {
   "cell_type": "code",
   "execution_count": 129,
   "metadata": {},
   "outputs": [],
   "source": [
    "r = r.reshape(8,2)"
   ]
  },
  {
   "cell_type": "code",
   "execution_count": 137,
   "metadata": {},
   "outputs": [
    {
     "data": {
      "text/plain": [
       "array([[45, 45, 45, 45, 45, 45, 45, 45],\n",
       "       [45, 45, 45, 45, 45, 45, 45, 45]])"
      ]
     },
     "execution_count": 137,
     "metadata": {},
     "output_type": "execute_result"
    }
   ],
   "source": [
    "r.transpose(1,0)"
   ]
  },
  {
   "cell_type": "code",
   "execution_count": 138,
   "metadata": {},
   "outputs": [
    {
     "data": {
      "text/plain": [
       "array([[45, 45, 45, 45, 45, 45, 45, 45],\n",
       "       [45, 45, 45, 45, 45, 45, 45, 45]])"
      ]
     },
     "execution_count": 138,
     "metadata": {},
     "output_type": "execute_result"
    }
   ],
   "source": [
    "r.transpose()"
   ]
  },
  {
   "cell_type": "code",
   "execution_count": 142,
   "metadata": {},
   "outputs": [
    {
     "data": {
      "text/plain": [
       "array([[45, 45],\n",
       "       [45, 45],\n",
       "       [45, 45],\n",
       "       [45, 45],\n",
       "       [45, 45],\n",
       "       [45, 45],\n",
       "       [45, 45],\n",
       "       [45, 45]])"
      ]
     },
     "execution_count": 142,
     "metadata": {},
     "output_type": "execute_result"
    }
   ],
   "source": [
    "r.transpose([0,1])"
   ]
  },
  {
   "cell_type": "code",
   "execution_count": 143,
   "metadata": {},
   "outputs": [
    {
     "data": {
      "text/plain": [
       "(8, 2)"
      ]
     },
     "execution_count": 143,
     "metadata": {},
     "output_type": "execute_result"
    }
   ],
   "source": [
    "r.shape"
   ]
  },
  {
   "cell_type": "code",
   "execution_count": 144,
   "metadata": {},
   "outputs": [
    {
     "data": {
      "text/plain": [
       "(8, 2, 1, 1)"
      ]
     },
     "execution_count": 144,
     "metadata": {},
     "output_type": "execute_result"
    }
   ],
   "source": [
    "r.resize(8,2,1,1)\n",
    "r.shape"
   ]
  },
  {
   "cell_type": "code",
   "execution_count": 145,
   "metadata": {},
   "outputs": [
    {
     "data": {
      "text/plain": [
       "array([[[[45]],\n",
       "\n",
       "        [[45]]],\n",
       "\n",
       "\n",
       "       [[[45]],\n",
       "\n",
       "        [[45]]],\n",
       "\n",
       "\n",
       "       [[[45]],\n",
       "\n",
       "        [[45]]],\n",
       "\n",
       "\n",
       "       [[[45]],\n",
       "\n",
       "        [[45]]],\n",
       "\n",
       "\n",
       "       [[[45]],\n",
       "\n",
       "        [[45]]],\n",
       "\n",
       "\n",
       "       [[[45]],\n",
       "\n",
       "        [[45]]],\n",
       "\n",
       "\n",
       "       [[[45]],\n",
       "\n",
       "        [[45]]],\n",
       "\n",
       "\n",
       "       [[[45]],\n",
       "\n",
       "        [[45]]]])"
      ]
     },
     "execution_count": 145,
     "metadata": {},
     "output_type": "execute_result"
    }
   ],
   "source": [
    "r"
   ]
  },
  {
   "cell_type": "code",
   "execution_count": 147,
   "metadata": {},
   "outputs": [
    {
     "data": {
      "text/plain": [
       "array([45, 45, 45, 45, 45, 45, 45, 45, 45, 45, 45, 45, 45, 45, 45, 45])"
      ]
     },
     "execution_count": 147,
     "metadata": {},
     "output_type": "execute_result"
    }
   ],
   "source": [
    "r.ravel()"
   ]
  },
  {
   "cell_type": "code",
   "execution_count": 156,
   "metadata": {},
   "outputs": [
    {
     "data": {
      "text/plain": [
       "array([[8.91477191e-313, 0.00000000e+000, 3.62633684e+228,\n",
       "        1.01506633e+242],\n",
       "       [4.25114309e-096, 9.78750380e+199, 6.97843734e+252,\n",
       "        2.62461912e-306]])"
      ]
     },
     "execution_count": 156,
     "metadata": {},
     "output_type": "execute_result"
    }
   ],
   "source": [
    "r = np.ndarray([2,4])\n",
    "r"
   ]
  },
  {
   "cell_type": "code",
   "execution_count": 160,
   "metadata": {},
   "outputs": [
    {
     "data": {
      "text/plain": [
       "16"
      ]
     },
     "execution_count": 160,
     "metadata": {},
     "output_type": "execute_result"
    }
   ],
   "source": [
    "len(r.repeat(2))"
   ]
  },
  {
   "cell_type": "code",
   "execution_count": 159,
   "metadata": {},
   "outputs": [
    {
     "data": {
      "text/plain": [
       "array([[8.91477191e-313, 0.00000000e+000, 3.62633684e+228,\n",
       "        1.01506633e+242],\n",
       "       [4.25114309e-096, 9.78750380e+199, 6.97843734e+252,\n",
       "        2.62461912e-306]])"
      ]
     },
     "execution_count": 159,
     "metadata": {},
     "output_type": "execute_result"
    }
   ],
   "source": [
    "r"
   ]
  },
  {
   "cell_type": "code",
   "execution_count": 161,
   "metadata": {},
   "outputs": [
    {
     "data": {
      "text/plain": [
       "2"
      ]
     },
     "execution_count": 161,
     "metadata": {},
     "output_type": "execute_result"
    }
   ],
   "source": [
    "len(r)"
   ]
  },
  {
   "cell_type": "code",
   "execution_count": 162,
   "metadata": {},
   "outputs": [
    {
     "data": {
      "text/plain": [
       "array([[8.91477191e-313, 0.00000000e+000, 3.62633684e+228,\n",
       "        1.01506633e+242],\n",
       "       [4.25114309e-096, 9.78750380e+199, 6.97843734e+252,\n",
       "        2.62461912e-306]])"
      ]
     },
     "execution_count": 162,
     "metadata": {},
     "output_type": "execute_result"
    }
   ],
   "source": [
    "r"
   ]
  },
  {
   "cell_type": "code",
   "execution_count": 163,
   "metadata": {},
   "outputs": [
    {
     "data": {
      "text/plain": [
       "array([8.91477191e-313, 8.91477191e-313, 8.91477191e-313, 0.00000000e+000,\n",
       "       0.00000000e+000, 0.00000000e+000, 3.62633684e+228, 3.62633684e+228,\n",
       "       3.62633684e+228, 1.01506633e+242, 1.01506633e+242, 1.01506633e+242,\n",
       "       4.25114309e-096, 4.25114309e-096, 4.25114309e-096, 9.78750380e+199,\n",
       "       9.78750380e+199, 9.78750380e+199, 6.97843734e+252, 6.97843734e+252,\n",
       "       6.97843734e+252, 2.62461912e-306, 2.62461912e-306, 2.62461912e-306])"
      ]
     },
     "execution_count": 163,
     "metadata": {},
     "output_type": "execute_result"
    }
   ],
   "source": [
    "r.repeat(3)"
   ]
  },
  {
   "cell_type": "code",
   "execution_count": 164,
   "metadata": {},
   "outputs": [
    {
     "data": {
      "text/plain": [
       "(2, 4)"
      ]
     },
     "execution_count": 164,
     "metadata": {},
     "output_type": "execute_result"
    }
   ],
   "source": [
    "r.shape"
   ]
  },
  {
   "cell_type": "code",
   "execution_count": 165,
   "metadata": {},
   "outputs": [
    {
     "data": {
      "text/plain": [
       "array([[8.91477191e-313, 0.00000000e+000, 3.62633684e+228,\n",
       "        1.01506633e+242],\n",
       "       [4.25114309e-096, 9.78750380e+199, 6.97843734e+252,\n",
       "        2.62461912e-306]])"
      ]
     },
     "execution_count": 165,
     "metadata": {},
     "output_type": "execute_result"
    }
   ],
   "source": [
    "r"
   ]
  },
  {
   "cell_type": "code",
   "execution_count": 173,
   "metadata": {},
   "outputs": [
    {
     "data": {
      "text/plain": [
       "array([[8.91477191e-313, 0.00000000e+000, 3.62633684e+228,\n",
       "        1.01506633e+242]])"
      ]
     },
     "execution_count": 173,
     "metadata": {},
     "output_type": "execute_result"
    }
   ],
   "source": [
    "r.compress(np.random.randn(1),0)"
   ]
  },
  {
   "cell_type": "code",
   "execution_count": 176,
   "metadata": {},
   "outputs": [],
   "source": [
    "r = np.ndarray(10)"
   ]
  },
  {
   "cell_type": "code",
   "execution_count": 177,
   "metadata": {},
   "outputs": [
    {
     "data": {
      "text/plain": [
       "array([-0.18412965,  0.68552364, -0.19531435, -0.90147359,  0.48632629,\n",
       "        0.36003503,  2.99460837, -0.28114352,  1.90100601,  0.79079788])"
      ]
     },
     "execution_count": 177,
     "metadata": {},
     "output_type": "execute_result"
    }
   ],
   "source": [
    "r"
   ]
  },
  {
   "cell_type": "code",
   "execution_count": 178,
   "metadata": {},
   "outputs": [],
   "source": [
    "r[3] = 45"
   ]
  },
  {
   "cell_type": "code",
   "execution_count": 179,
   "metadata": {},
   "outputs": [
    {
     "data": {
      "text/plain": [
       "array([-0.18412965,  0.68552364, -0.19531435, 45.        ,  0.48632629,\n",
       "        0.36003503,  2.99460837, -0.28114352,  1.90100601,  0.79079788])"
      ]
     },
     "execution_count": 179,
     "metadata": {},
     "output_type": "execute_result"
    }
   ],
   "source": [
    "r"
   ]
  },
  {
   "cell_type": "code",
   "execution_count": 181,
   "metadata": {},
   "outputs": [],
   "source": [
    "r[2] = 0\n",
    "r[3] = 0"
   ]
  },
  {
   "cell_type": "code",
   "execution_count": 184,
   "metadata": {},
   "outputs": [
    {
     "data": {
      "text/plain": [
       "(array([0, 1, 4, 5, 6, 7, 8, 9], dtype=int32),)"
      ]
     },
     "execution_count": 184,
     "metadata": {},
     "output_type": "execute_result"
    }
   ],
   "source": [
    "r.nonzero()"
   ]
  },
  {
   "cell_type": "code",
   "execution_count": 185,
   "metadata": {},
   "outputs": [],
   "source": [
    "r.sort()"
   ]
  },
  {
   "cell_type": "code",
   "execution_count": 186,
   "metadata": {},
   "outputs": [
    {
     "data": {
      "text/plain": [
       "array([-0.28114352, -0.18412965,  0.        ,  0.        ,  0.36003503,\n",
       "        0.48632629,  0.68552364,  0.79079788,  1.90100601,  2.99460837])"
      ]
     },
     "execution_count": 186,
     "metadata": {},
     "output_type": "execute_result"
    }
   ],
   "source": [
    "r"
   ]
  },
  {
   "cell_type": "code",
   "execution_count": 187,
   "metadata": {},
   "outputs": [
    {
     "data": {
      "text/plain": [
       "array([-0.28114352, -0.18412965,  0.        ,  0.        ,  0.36003503,\n",
       "        0.48632629,  0.68552364,  0.79079788,  1.90100601,  2.99460837])"
      ]
     },
     "execution_count": 187,
     "metadata": {},
     "output_type": "execute_result"
    }
   ],
   "source": [
    "r.copy()"
   ]
  },
  {
   "cell_type": "code",
   "execution_count": 188,
   "metadata": {},
   "outputs": [
    {
     "data": {
      "text/plain": [
       "array([-0.28114352, -0.18412965,  0.        ,  0.        ,  0.36003503,\n",
       "        0.48632629,  0.68552364,  0.79079788,  1.90100601,  2.99460837])"
      ]
     },
     "execution_count": 188,
     "metadata": {},
     "output_type": "execute_result"
    }
   ],
   "source": [
    "r"
   ]
  },
  {
   "cell_type": "code",
   "execution_count": 189,
   "metadata": {},
   "outputs": [
    {
     "data": {
      "text/plain": [
       "numpy.ndarray"
      ]
     },
     "execution_count": 189,
     "metadata": {},
     "output_type": "execute_result"
    }
   ],
   "source": [
    "type(r.copy())"
   ]
  },
  {
   "cell_type": "code",
   "execution_count": 191,
   "metadata": {},
   "outputs": [],
   "source": [
    "r.dump('ddd.txt')\n"
   ]
  },
  {
   "cell_type": "code",
   "execution_count": 195,
   "metadata": {},
   "outputs": [
    {
     "ename": "NameError",
     "evalue": "name 'float64' is not defined",
     "output_type": "error",
     "traceback": [
      "\u001b[1;31m---------------------------------------------------------------------------\u001b[0m",
      "\u001b[1;31mNameError\u001b[0m                                 Traceback (most recent call last)",
      "\u001b[1;32m<ipython-input-195-39b7d1ca64f6>\u001b[0m in \u001b[0;36m<module>\u001b[1;34m\u001b[0m\n\u001b[1;32m----> 1\u001b[1;33m \u001b[0mr\u001b[0m\u001b[1;33m.\u001b[0m\u001b[0mastype\u001b[0m\u001b[1;33m(\u001b[0m\u001b[0mfloat64\u001b[0m\u001b[1;33m)\u001b[0m\u001b[1;33m\u001b[0m\u001b[1;33m\u001b[0m\u001b[0m\n\u001b[0m",
      "\u001b[1;31mNameError\u001b[0m: name 'float64' is not defined"
     ]
    }
   ],
   "source": [
    "r.astype(float)"
   ]
  },
  {
   "cell_type": "code",
   "execution_count": 196,
   "metadata": {},
   "outputs": [
    {
     "data": {
      "text/plain": [
       "{'?': numpy.bool_,\n",
       " 0: numpy.bool_,\n",
       " 'byte': numpy.int8,\n",
       " 'b': numpy.int8,\n",
       " 1: numpy.int8,\n",
       " 'ubyte': numpy.uint8,\n",
       " 'B': numpy.uint8,\n",
       " 2: numpy.uint8,\n",
       " 'short': numpy.int16,\n",
       " 'h': numpy.int16,\n",
       " 3: numpy.int16,\n",
       " 'ushort': numpy.uint16,\n",
       " 'H': numpy.uint16,\n",
       " 4: numpy.uint16,\n",
       " 'i': numpy.int32,\n",
       " 5: numpy.int32,\n",
       " 'uint': numpy.uint32,\n",
       " 'I': numpy.uint32,\n",
       " 6: numpy.uint32,\n",
       " 'intp': numpy.int32,\n",
       " 'p': numpy.int32,\n",
       " 'uintp': numpy.uint32,\n",
       " 'P': numpy.uint32,\n",
       " 'long': numpy.int32,\n",
       " 'l': numpy.int32,\n",
       " 7: numpy.int32,\n",
       " 'L': numpy.uint32,\n",
       " 8: numpy.uint32,\n",
       " 'longlong': numpy.int64,\n",
       " 'q': numpy.int64,\n",
       " 9: numpy.int64,\n",
       " 'ulonglong': numpy.uint64,\n",
       " 'Q': numpy.uint64,\n",
       " 10: numpy.uint64,\n",
       " 'half': numpy.float16,\n",
       " 'e': numpy.float16,\n",
       " 23: numpy.float16,\n",
       " 'f': numpy.float32,\n",
       " 11: numpy.float32,\n",
       " 'double': numpy.float64,\n",
       " 'd': numpy.float64,\n",
       " 12: numpy.float64,\n",
       " 'longdouble': numpy.float64,\n",
       " 'g': numpy.float64,\n",
       " 13: numpy.float64,\n",
       " 'cfloat': numpy.complex128,\n",
       " 'F': numpy.complex64,\n",
       " 14: numpy.complex64,\n",
       " 'cdouble': numpy.complex128,\n",
       " 'D': numpy.complex128,\n",
       " 15: numpy.complex128,\n",
       " 'clongdouble': numpy.complex128,\n",
       " 'G': numpy.complex128,\n",
       " 16: numpy.complex128,\n",
       " 'O': numpy.object_,\n",
       " 17: numpy.object_,\n",
       " 'S': numpy.bytes_,\n",
       " 18: numpy.bytes_,\n",
       " 'unicode': numpy.str_,\n",
       " 'U': numpy.str_,\n",
       " 19: numpy.str_,\n",
       " 'void': numpy.void,\n",
       " 'V': numpy.void,\n",
       " 20: numpy.void,\n",
       " 'M': numpy.datetime64,\n",
       " 21: numpy.datetime64,\n",
       " 'm': numpy.timedelta64,\n",
       " 22: numpy.timedelta64,\n",
       " 'bool8': numpy.bool_,\n",
       " 'Bool': numpy.bool_,\n",
       " 'b1': numpy.bool_,\n",
       " 'int32': numpy.int32,\n",
       " 'Int32': numpy.int32,\n",
       " 'i4': numpy.int32,\n",
       " 'uint32': numpy.uint32,\n",
       " 'Uint32': numpy.uint32,\n",
       " 'u4': numpy.uint32,\n",
       " 'float16': numpy.float16,\n",
       " 'Float16': numpy.float16,\n",
       " 'f2': numpy.float16,\n",
       " 'float32': numpy.float32,\n",
       " 'Float32': numpy.float32,\n",
       " 'f4': numpy.float32,\n",
       " 'float64': numpy.float64,\n",
       " 'Float64': numpy.float64,\n",
       " 'f8': numpy.float64,\n",
       " 'complex64': numpy.complex64,\n",
       " 'Complex32': numpy.complex64,\n",
       " 'c8': numpy.complex64,\n",
       " 'complex128': numpy.complex128,\n",
       " 'Complex64': numpy.complex128,\n",
       " 'c16': numpy.complex128,\n",
       " 'object0': numpy.object_,\n",
       " 'Object0': numpy.object_,\n",
       " 'bytes0': numpy.bytes_,\n",
       " 'Bytes0': numpy.bytes_,\n",
       " 'str0': numpy.str_,\n",
       " 'Str0': numpy.str_,\n",
       " 'void0': numpy.void,\n",
       " 'Void0': numpy.void,\n",
       " 'datetime64': numpy.datetime64,\n",
       " 'Datetime64': numpy.datetime64,\n",
       " 'M8': numpy.datetime64,\n",
       " 'timedelta64': numpy.timedelta64,\n",
       " 'Timedelta64': numpy.timedelta64,\n",
       " 'm8': numpy.timedelta64,\n",
       " 'UInt32': numpy.uint32,\n",
       " 'int64': numpy.int64,\n",
       " 'Int64': numpy.int64,\n",
       " 'i8': numpy.int64,\n",
       " 'uint64': numpy.uint64,\n",
       " 'UInt64': numpy.uint64,\n",
       " 'u8': numpy.uint64,\n",
       " 'int16': numpy.int16,\n",
       " 'Int16': numpy.int16,\n",
       " 'i2': numpy.int16,\n",
       " 'uint16': numpy.uint16,\n",
       " 'UInt16': numpy.uint16,\n",
       " 'u2': numpy.uint16,\n",
       " 'int8': numpy.int8,\n",
       " 'Int8': numpy.int8,\n",
       " 'i1': numpy.int8,\n",
       " 'uint8': numpy.uint8,\n",
       " 'UInt8': numpy.uint8,\n",
       " 'u1': numpy.uint8,\n",
       " 'complex_': numpy.complex128,\n",
       " 'int0': numpy.int32,\n",
       " 'uint0': numpy.uint32,\n",
       " 'single': numpy.float32,\n",
       " 'csingle': numpy.complex64,\n",
       " 'singlecomplex': numpy.complex64,\n",
       " 'float_': numpy.float64,\n",
       " 'intc': numpy.int32,\n",
       " 'uintc': numpy.uint32,\n",
       " 'int_': numpy.int32,\n",
       " 'longfloat': numpy.float64,\n",
       " 'clongfloat': numpy.complex128,\n",
       " 'longcomplex': numpy.complex128,\n",
       " 'bool_': numpy.bool_,\n",
       " 'bytes_': numpy.bytes_,\n",
       " 'string_': numpy.bytes_,\n",
       " 'unicode_': numpy.str_,\n",
       " 'object_': numpy.object_,\n",
       " 'str_': numpy.str_,\n",
       " 'int': numpy.int32,\n",
       " 'float': numpy.float64,\n",
       " 'complex': numpy.complex128,\n",
       " 'bool': numpy.bool_,\n",
       " 'object': numpy.object_,\n",
       " 'str': numpy.str_,\n",
       " 'bytes': numpy.bytes_,\n",
       " 'a': numpy.bytes_}"
      ]
     },
     "execution_count": 196,
     "metadata": {},
     "output_type": "execute_result"
    }
   ],
   "source": [
    "np.sctypeDict"
   ]
  },
  {
   "cell_type": "code",
   "execution_count": 197,
   "metadata": {},
   "outputs": [
    {
     "data": {
      "text/plain": [
       "numpy.uint64"
      ]
     },
     "execution_count": 197,
     "metadata": {},
     "output_type": "execute_result"
    }
   ],
   "source": [
    "np.uint64"
   ]
  },
  {
   "cell_type": "code",
   "execution_count": 203,
   "metadata": {},
   "outputs": [
    {
     "data": {
      "text/plain": [
       "numpy.complex128"
      ]
     },
     "execution_count": 203,
     "metadata": {},
     "output_type": "execute_result"
    }
   ],
   "source": [
    "np.sctypeDict['complex128']"
   ]
  },
  {
   "cell_type": "code",
   "execution_count": 205,
   "metadata": {},
   "outputs": [
    {
     "data": {
      "text/plain": [
       "array([  4.5234234,   3.       ,   4.       ,  -1.       ,  -1.2      ,\n",
       "        -1.       , -45.       ])"
      ]
     },
     "execution_count": 205,
     "metadata": {},
     "output_type": "execute_result"
    }
   ],
   "source": [
    "np.float64([4.5234234,3,4,-1.0,-1.2, -1, -45])"
   ]
  },
  {
   "cell_type": "code",
   "execution_count": 212,
   "metadata": {},
   "outputs": [
    {
     "data": {
      "text/plain": [
       "finfo(resolution=1e-15, min=-1.7976931348623157e+308, max=1.7976931348623157e+308, dtype=float64)"
      ]
     },
     "execution_count": 212,
     "metadata": {},
     "output_type": "execute_result"
    }
   ],
   "source": [
    "np.finfo(np.float64)"
   ]
  },
  {
   "cell_type": "code",
   "execution_count": 219,
   "metadata": {},
   "outputs": [
    {
     "data": {
      "text/plain": [
       "finfo(resolution=1e-06, min=-3.4028235e+38, max=3.4028235e+38, dtype=float32)"
      ]
     },
     "execution_count": 219,
     "metadata": {},
     "output_type": "execute_result"
    }
   ],
   "source": [
    "np.finfo(np.float32)"
   ]
  },
  {
   "cell_type": "code",
   "execution_count": 220,
   "metadata": {},
   "outputs": [
    {
     "ename": "TypeError",
     "evalue": "data type \"u\" not understood",
     "output_type": "error",
     "traceback": [
      "\u001b[1;31m---------------------------------------------------------------------------\u001b[0m",
      "\u001b[1;31mTypeError\u001b[0m                                 Traceback (most recent call last)",
      "\u001b[1;32m<ipython-input-220-501f559e1c14>\u001b[0m in \u001b[0;36m<module>\u001b[1;34m\u001b[0m\n\u001b[1;32m----> 1\u001b[1;33m \u001b[0ma\u001b[0m \u001b[1;33m=\u001b[0m \u001b[0mnp\u001b[0m\u001b[1;33m.\u001b[0m\u001b[0marange\u001b[0m\u001b[1;33m(\u001b[0m\u001b[1;36m5\u001b[0m\u001b[1;33m,\u001b[0m \u001b[0mdtype\u001b[0m\u001b[1;33m=\u001b[0m \u001b[1;34m'u'\u001b[0m\u001b[1;33m)\u001b[0m\u001b[1;33m\u001b[0m\u001b[1;33m\u001b[0m\u001b[0m\n\u001b[0m",
      "\u001b[1;31mTypeError\u001b[0m: data type \"u\" not understood"
     ]
    }
   ],
   "source": [
    "a = np.arange(5, dtype= 'u')"
   ]
  },
  {
   "cell_type": "code",
   "execution_count": 225,
   "metadata": {},
   "outputs": [
    {
     "data": {
      "text/plain": [
       "dtype('float64')"
      ]
     },
     "execution_count": 225,
     "metadata": {},
     "output_type": "execute_result"
    }
   ],
   "source": [
    "r.dtype"
   ]
  },
  {
   "cell_type": "code",
   "execution_count": 229,
   "metadata": {},
   "outputs": [
    {
     "data": {
      "text/plain": [
       "array([ True,  True, False, False,  True,  True,  True,  True,  True,\n",
       "        True])"
      ]
     },
     "execution_count": 229,
     "metadata": {},
     "output_type": "execute_result"
    }
   ],
   "source": [
    "r.astype(dtype = np.bool)"
   ]
  },
  {
   "cell_type": "code",
   "execution_count": 232,
   "metadata": {},
   "outputs": [
    {
     "data": {
      "text/plain": [
       "array([-0.28114352, -0.18412965,  0.        ,  0.        ,  0.36003503,\n",
       "        0.48632629,  0.68552364,  0.79079788,  1.90100601,  2.99460837])"
      ]
     },
     "execution_count": 232,
     "metadata": {},
     "output_type": "execute_result"
    }
   ],
   "source": [
    "r"
   ]
  },
  {
   "cell_type": "code",
   "execution_count": 234,
   "metadata": {},
   "outputs": [
    {
     "data": {
      "text/plain": [
       "array([[ 1.64352195, -0.58585763, -1.52860469],\n",
       "       [ 0.59778627, -0.16820929, -0.52880903]])"
      ]
     },
     "execution_count": 234,
     "metadata": {},
     "output_type": "execute_result"
    }
   ],
   "source": [
    "t = np.random.randn(2,3)\n",
    "t"
   ]
  },
  {
   "cell_type": "code",
   "execution_count": 239,
   "metadata": {},
   "outputs": [
    {
     "data": {
      "text/plain": [
       "array([ 0.59778627, -0.58585763, -1.52860469])"
      ]
     },
     "execution_count": 239,
     "metadata": {},
     "output_type": "execute_result"
    }
   ],
   "source": [
    "t.min(axis=0)"
   ]
  },
  {
   "cell_type": "code",
   "execution_count": 240,
   "metadata": {},
   "outputs": [],
   "source": [
    "t = np.random.randn(100,2,3)"
   ]
  },
  {
   "cell_type": "code",
   "execution_count": 242,
   "metadata": {},
   "outputs": [
    {
     "data": {
      "text/plain": [
       "array([[-2.60006498, -2.65180165, -3.65656549],\n",
       "       [-2.40464352, -1.91291349, -1.92577573]])"
      ]
     },
     "execution_count": 242,
     "metadata": {},
     "output_type": "execute_result"
    }
   ],
   "source": [
    "t.min(axis=0)"
   ]
  },
  {
   "cell_type": "code",
   "execution_count": 243,
   "metadata": {},
   "outputs": [
    {
     "data": {
      "text/plain": [
       "array([[13, 94, 44],\n",
       "       [20, 23,  8]], dtype=int32)"
      ]
     },
     "execution_count": 243,
     "metadata": {},
     "output_type": "execute_result"
    }
   ],
   "source": [
    "t.argmin(axis=0)"
   ]
  },
  {
   "cell_type": "code",
   "execution_count": 248,
   "metadata": {},
   "outputs": [
    {
     "data": {
      "text/plain": [
       "array([[-0.63689786, -2.65180165,  1.88955141],\n",
       "       [ 0.65173908, -0.3133518 , -0.92355183]])"
      ]
     },
     "execution_count": 248,
     "metadata": {},
     "output_type": "execute_result"
    }
   ],
   "source": [
    "t[94]\n"
   ]
  },
  {
   "cell_type": "code",
   "execution_count": 250,
   "metadata": {},
   "outputs": [
    {
     "data": {
      "text/plain": [
       "array([[0.70068149, 1.8107279 , 0.90941393],\n",
       "       [0.40769911, 1.20596878, 0.47753064],\n",
       "       [0.41262251, 1.83029859, 2.91660562],\n",
       "       [0.48051449, 1.11574566, 0.39781299],\n",
       "       [0.06089596, 0.65975175, 2.00039253],\n",
       "       [1.55874102, 0.26344411, 0.32699289],\n",
       "       [1.10605344, 1.98185183, 0.10930457],\n",
       "       [0.80376532, 0.07721389, 0.82170987],\n",
       "       [0.63602062, 1.17689682, 2.02981936],\n",
       "       [0.32008675, 2.85190205, 0.46608342],\n",
       "       [1.35835418, 0.41913079, 1.2446339 ],\n",
       "       [1.62427221, 1.31603483, 1.04963259],\n",
       "       [0.36420859, 0.31666159, 1.43135454],\n",
       "       [0.72137678, 0.23788152, 0.6730357 ],\n",
       "       [1.4824359 , 0.13847592, 3.35577783],\n",
       "       [1.23830421, 4.10363586, 1.87476869],\n",
       "       [1.27502424, 0.50681098, 0.47238544],\n",
       "       [1.66537324, 1.88662828, 0.79465295],\n",
       "       [0.2122089 , 1.55130205, 1.76619149],\n",
       "       [1.45919945, 2.82899752, 2.4313791 ],\n",
       "       [4.91717831, 0.04297759, 1.06040559],\n",
       "       [1.00043272, 2.11404832, 0.1120716 ],\n",
       "       [1.01008746, 1.30782997, 0.06428351],\n",
       "       [1.1805592 , 0.14708657, 0.04956186],\n",
       "       [0.15825072, 0.35843087, 1.58204042],\n",
       "       [3.34383336, 2.76241846, 0.91143108],\n",
       "       [0.60442408, 0.14723798, 0.47158485],\n",
       "       [0.61667752, 1.32308191, 1.48378225],\n",
       "       [2.54088925, 0.42726094, 0.05684669],\n",
       "       [0.71744132, 0.0307296 , 2.42620898],\n",
       "       [1.13345421, 0.367728  , 0.26822545],\n",
       "       [0.30595623, 0.90776337, 0.48538933],\n",
       "       [2.17815314, 0.27455556, 1.57862751],\n",
       "       [1.93832074, 1.64919547, 1.54629342],\n",
       "       [1.10767514, 1.00731049, 0.45053756],\n",
       "       [3.06798754, 0.31980595, 0.54925613],\n",
       "       [0.5729123 , 0.03282242, 1.0713583 ],\n",
       "       [0.15646493, 1.77794385, 0.31435049],\n",
       "       [1.38077231, 2.46993717, 0.67670185],\n",
       "       [1.50841914, 1.74600307, 1.00029232],\n",
       "       [3.00281392, 0.87518404, 2.1113294 ],\n",
       "       [1.2799132 , 1.74916491, 1.78216564],\n",
       "       [0.90597141, 1.60997357, 0.68810075],\n",
       "       [1.79523572, 0.41250885, 1.09721555],\n",
       "       [1.07796378, 1.05385101, 2.88207401],\n",
       "       [1.91922908, 0.91612682, 0.72989512],\n",
       "       [2.2461988 , 2.69737265, 0.77684756],\n",
       "       [1.2832419 , 0.25997043, 0.7511434 ],\n",
       "       [0.30106185, 1.56739496, 0.50780927],\n",
       "       [0.49029711, 1.79710061, 1.25086019],\n",
       "       [0.52037024, 0.33211731, 0.2969763 ],\n",
       "       [1.98523979, 0.13828057, 1.28179736],\n",
       "       [0.166033  , 1.07858505, 0.12219598],\n",
       "       [1.68960312, 2.08267611, 1.22941515],\n",
       "       [0.35425022, 1.90814095, 2.27212823],\n",
       "       [1.70774595, 0.60806452, 0.65912773],\n",
       "       [0.70846842, 0.1318965 , 0.72636808],\n",
       "       [0.97971075, 1.80142288, 2.33604662],\n",
       "       [0.99908766, 1.79725044, 1.80183032],\n",
       "       [2.35267323, 0.33917629, 0.03802375],\n",
       "       [1.3405466 , 0.77227609, 0.46912033],\n",
       "       [2.22709199, 0.27927861, 0.63577543],\n",
       "       [0.46904711, 1.76871761, 0.86021272],\n",
       "       [0.85516824, 0.71011681, 0.33417345],\n",
       "       [1.23040149, 0.72919175, 2.15692677],\n",
       "       [0.75444745, 1.31754845, 0.93970178],\n",
       "       [0.07987138, 1.51502021, 1.35045423],\n",
       "       [1.44506478, 2.60743466, 2.07391011],\n",
       "       [0.19210916, 1.66888864, 0.20454722],\n",
       "       [0.0759349 , 0.99814809, 0.67357511],\n",
       "       [0.53631286, 1.20741773, 0.09616624],\n",
       "       [0.22085632, 0.11629211, 0.78661444],\n",
       "       [3.16009633, 1.97519323, 0.75069893],\n",
       "       [1.51114562, 2.63259586, 0.93290853],\n",
       "       [0.42317835, 0.01836872, 0.03354395],\n",
       "       [0.82951716, 0.20403029, 1.12825865],\n",
       "       [0.73815552, 0.44427482, 0.16729766],\n",
       "       [0.16225905, 1.73577557, 0.46875127],\n",
       "       [2.50474363, 1.62733401, 0.69481337],\n",
       "       [0.21072792, 0.83218597, 1.92282792],\n",
       "       [0.68336534, 2.01144174, 0.3804339 ],\n",
       "       [0.53339507, 3.3599253 , 0.61697468],\n",
       "       [0.92194526, 1.35080967, 0.04184715],\n",
       "       [1.35896225, 1.29602043, 2.11662624],\n",
       "       [1.46926561, 1.20949859, 0.03877866],\n",
       "       [2.50213829, 1.11243804, 1.25273888],\n",
       "       [1.78676853, 1.51798734, 0.12732749],\n",
       "       [1.02592012, 1.74408205, 0.02873712],\n",
       "       [3.61204152, 1.34089325, 0.34938366],\n",
       "       [1.74049741, 0.09768261, 2.73772669],\n",
       "       [0.16274885, 0.18493269, 2.60966767],\n",
       "       [0.71192403, 2.25678872, 3.72564804],\n",
       "       [0.72871706, 0.13819252, 1.28963352],\n",
       "       [0.86763346, 0.47498832, 0.71889776],\n",
       "       [1.28863694, 2.33844985, 2.81310323],\n",
       "       [1.56743088, 0.10433808, 2.31253994],\n",
       "       [2.11887252, 0.27278692, 0.68480757],\n",
       "       [0.53193193, 1.63256006, 0.49554101],\n",
       "       [2.19328545, 1.38734572, 0.62180698],\n",
       "       [0.93184034, 0.30253105, 0.24236754]])"
      ]
     },
     "execution_count": 250,
     "metadata": {},
     "output_type": "execute_result"
    }
   ],
   "source": [
    "t.ptp(axis=1)"
   ]
  },
  {
   "cell_type": "code",
   "execution_count": 264,
   "metadata": {},
   "outputs": [
    {
     "data": {
      "text/plain": [
       "array([[[ 0.52473829, -0.75619247, -0.19757501, -0.03477157],\n",
       "        [ 0.2759615 , -0.12245341, -0.45247228,  0.74135502],\n",
       "        [ 1.85184909, -1.03554503, -1.5128741 ,  0.49648834]],\n",
       "\n",
       "       [[-0.16206168, -0.87666232,  1.45810449, -0.05011518],\n",
       "        [-0.78344488,  0.53728145,  0.30498836,  1.8064512 ],\n",
       "        [ 0.72575171,  1.50589273, -0.40659726, -0.85034279]],\n",
       "\n",
       "       [[-0.70891575,  1.10121763, -0.14546434, -0.29235969],\n",
       "        [-0.29462676, -0.18251313, -0.92899617,  1.95767734],\n",
       "        [-0.71399592,  1.35971255, -0.39307134,  1.50407469]]])"
      ]
     },
     "execution_count": 264,
     "metadata": {},
     "output_type": "execute_result"
    }
   ],
   "source": [
    "t = np.random.randn(3,3,4)\n",
    "t"
   ]
  },
  {
   "cell_type": "code",
   "execution_count": 269,
   "metadata": {},
   "outputs": [
    {
     "data": {
      "text/plain": [
       "array([[[ 0.52473829, -0.75619247, -0.19757501, -0.03477157],\n",
       "        [ 0.80069979, -0.87864588, -0.65004729,  0.70658346],\n",
       "        [ 2.65254888, -1.91419091, -2.16292139,  1.2030718 ]],\n",
       "\n",
       "       [[-0.16206168, -0.87666232,  1.45810449, -0.05011518],\n",
       "        [-0.94550657, -0.33938087,  1.76309285,  1.75633602],\n",
       "        [-0.21975486,  1.16651186,  1.35649559,  0.90599322]],\n",
       "\n",
       "       [[-0.70891575,  1.10121763, -0.14546434, -0.29235969],\n",
       "        [-1.00354251,  0.9187045 , -1.07446051,  1.66531764],\n",
       "        [-1.71753843,  2.27841704, -1.46753184,  3.16939233]]])"
      ]
     },
     "execution_count": 269,
     "metadata": {},
     "output_type": "execute_result"
    }
   ],
   "source": [
    "t.cumsum(1)"
   ]
  },
  {
   "cell_type": "code",
   "execution_count": 272,
   "metadata": {},
   "outputs": [],
   "source": [
    "x = t.__reduce__()"
   ]
  },
  {
   "cell_type": "code",
   "execution_count": 273,
   "metadata": {},
   "outputs": [
    {
     "data": {
      "text/plain": [
       "(<function numpy.core.multiarray._reconstruct>,\n",
       " (numpy.ndarray, (0,), b'b'),\n",
       " (1,\n",
       "  (3, 3, 4),\n",
       "  dtype('float64'),\n",
       "  False,\n",
       "  b'\\xe1u\\xc6\\xf3\\xa7\\xca\\xe0?P2\\x05\\x8f\\xba2\\xe8\\xbfn\\xcblV#J\\xc9\\xbf\\xa3\\xa7\\xc0&\\x94\\xcd\\xa1\\xbf\\xd3y\\xafnZ\\xa9\\xd1?\\xfb\\xb0\\xdcR\\x1bY\\xbf\\xbfv\\xf5yGN\\xf5\\xdc\\xbf\\xe7\\xba\\xe6*.\\xb9\\xe7?Q\\xf2\\xa3\\x81,\\xa1\\xfd?Q\\xadl\\xa9\\x97\\x91\\xf0\\xbf\\xdd\\x94ex\\xbb4\\xf8\\xbfB\\xbe\\xf2\\x08w\\xc6\\xdf?\\xc0\\xa4y\\xf1o\\xbe\\xc4\\xbf\\xcd\\x1c\\xbe$\\x9e\\r\\xec\\xbf\\xb6\\xab<_eT\\xf7?\\x86\\x05\\x11h\\xb2\\xa8\\xa9\\xbf\\xe0\\x94\\x15\\x00\\xfb\\x11\\xe9\\xbfk\\xfb\\x02\\xe0h1\\xe1?\\x86\\xc0z\\xea\\xed\\x84\\xd3?\\xe4\\\\\\xaf^9\\xe7\\xfc?\\x02\\'\\xac\\xa5[9\\xe7?\\x03\\x0c\\xca\\xf9\"\\x18\\xf8?\\xac\\xb4\\'\\x83\\xb0\\x05\\xda\\xbf+\\x9a\\xf9\\x15\\x026\\xeb\\xbf\\xd3\\x03\\x1a\\x16p\\xaf\\xe6\\xbf8\\xb4\\xaa_\\x96\\x9e\\xf1?\\xc5_HP\\x93\\x9e\\xc2\\xbf ULo\\x05\\xb6\\xd2\\xbf`C\\x8e-*\\xdb\\xd2\\xbf\\xf7&\\x03\\x14\\x97\\\\\\xc7\\xbf@M\\x8f+V\\xba\\xed\\xbf\\xcf\\xdd;x\\xa5R\\xff?h\\x04\\xa6\\xf9\\r\\xd9\\xe6\\xbfP=A\\xf1a\\xc1\\xf5?m\\x1cA\\xae\\x14(\\xd9\\xbf$D&\\xa0\\xb0\\x10\\xf8?'))"
      ]
     },
     "execution_count": 273,
     "metadata": {},
     "output_type": "execute_result"
    }
   ],
   "source": [
    "x"
   ]
  },
  {
   "cell_type": "code",
   "execution_count": 278,
   "metadata": {},
   "outputs": [
    {
     "data": {
      "text/plain": [
       "array([[[False,  True,  True,  True],\n",
       "        [ True,  True,  True, False],\n",
       "        [False,  True,  True, False]],\n",
       "\n",
       "       [[ True,  True, False,  True],\n",
       "        [ True, False,  True, False],\n",
       "        [False, False,  True,  True]],\n",
       "\n",
       "       [[ True, False,  True,  True],\n",
       "        [ True,  True,  True, False],\n",
       "        [ True, False,  True, False]]])"
      ]
     },
     "execution_count": 278,
     "metadata": {},
     "output_type": "execute_result"
    }
   ],
   "source": [
    "t.__lt__(0.32345)"
   ]
  },
  {
   "cell_type": "code",
   "execution_count": 279,
   "metadata": {},
   "outputs": [
    {
     "data": {
      "text/plain": [
       "3"
      ]
     },
     "execution_count": 279,
     "metadata": {},
     "output_type": "execute_result"
    }
   ],
   "source": [
    "len(t)"
   ]
  },
  {
   "cell_type": "code",
   "execution_count": 280,
   "metadata": {},
   "outputs": [
    {
     "data": {
      "text/plain": [
       "array([[[ 0.52473829, -0.75619247, -0.19757501, -0.03477157],\n",
       "        [ 0.2759615 , -0.12245341, -0.45247228,  0.74135502],\n",
       "        [ 1.85184909, -1.03554503, -1.5128741 ,  0.49648834]],\n",
       "\n",
       "       [[-0.16206168, -0.87666232,  1.45810449, -0.05011518],\n",
       "        [-0.78344488,  0.53728145,  0.30498836,  1.8064512 ],\n",
       "        [ 0.72575171,  1.50589273, -0.40659726, -0.85034279]],\n",
       "\n",
       "       [[-0.70891575,  1.10121763, -0.14546434, -0.29235969],\n",
       "        [-0.29462676, -0.18251313, -0.92899617,  1.95767734],\n",
       "        [-0.71399592,  1.35971255, -0.39307134,  1.50407469]]])"
      ]
     },
     "execution_count": 280,
     "metadata": {},
     "output_type": "execute_result"
    }
   ],
   "source": [
    "t"
   ]
  },
  {
   "cell_type": "code",
   "execution_count": 281,
   "metadata": {},
   "outputs": [
    {
     "data": {
      "text/plain": [
       "0.8411656619712258"
      ]
     },
     "execution_count": 281,
     "metadata": {},
     "output_type": "execute_result"
    }
   ],
   "source": [
    "t.var()"
   ]
  },
  {
   "cell_type": "code",
   "execution_count": 282,
   "metadata": {},
   "outputs": [
    {
     "data": {
      "text/plain": [
       "(3, 3, 4)"
      ]
     },
     "execution_count": 282,
     "metadata": {},
     "output_type": "execute_result"
    }
   ],
   "source": [
    "t.shape"
   ]
  },
  {
   "cell_type": "code",
   "execution_count": 283,
   "metadata": {},
   "outputs": [
    {
     "data": {
      "text/plain": [
       "0.91715083926867"
      ]
     },
     "execution_count": 283,
     "metadata": {},
     "output_type": "execute_result"
    }
   ],
   "source": [
    "t.std()"
   ]
  },
  {
   "cell_type": "code",
   "execution_count": 292,
   "metadata": {},
   "outputs": [
    {
     "data": {
      "text/plain": [
       "0.14584703623178236"
      ]
     },
     "execution_count": 292,
     "metadata": {},
     "output_type": "execute_result"
    }
   ],
   "source": [
    "t.mean()"
   ]
  },
  {
   "cell_type": "code",
   "execution_count": 293,
   "metadata": {},
   "outputs": [
    {
     "data": {
      "text/plain": [
       "(-1.5128740981102091,\n",
       " 1.9576773354182142,\n",
       " 0.14584703623178236,\n",
       " 0.91715083926867,\n",
       " 0.8411656619712258)"
      ]
     },
     "execution_count": 293,
     "metadata": {},
     "output_type": "execute_result"
    }
   ],
   "source": [
    "t.min(), t.max(), t.mean(), t.std(), t.var()"
   ]
  },
  {
   "cell_type": "code",
   "execution_count": 295,
   "metadata": {},
   "outputs": [
    {
     "ename": "ValueError",
     "evalue": "shapes (3,3,4) and (3,3,4) not aligned: 4 (dim 2) != 3 (dim 1)",
     "output_type": "error",
     "traceback": [
      "\u001b[1;31m---------------------------------------------------------------------------\u001b[0m",
      "\u001b[1;31mValueError\u001b[0m                                Traceback (most recent call last)",
      "\u001b[1;32m<ipython-input-295-c47917797111>\u001b[0m in \u001b[0;36m<module>\u001b[1;34m\u001b[0m\n\u001b[1;32m----> 1\u001b[1;33m \u001b[0mt\u001b[0m\u001b[1;33m.\u001b[0m\u001b[0mdot\u001b[0m\u001b[1;33m(\u001b[0m\u001b[0mt\u001b[0m\u001b[1;33m)\u001b[0m\u001b[1;33m\u001b[0m\u001b[1;33m\u001b[0m\u001b[0m\n\u001b[0m",
      "\u001b[1;31mValueError\u001b[0m: shapes (3,3,4) and (3,3,4) not aligned: 4 (dim 2) != 3 (dim 1)"
     ]
    }
   ],
   "source": [
    "t.dot(t)"
   ]
  },
  {
   "cell_type": "code",
   "execution_count": 297,
   "metadata": {},
   "outputs": [
    {
     "data": {
      "text/plain": [
       "array([ 0.13259656,  0.27043309, -0.63021986, -0.2295364 ,  0.07886931,\n",
       "        0.37489371, -0.73416293, -0.70464053,  0.42769875, -0.41641782,\n",
       "        0.34147668,  0.44646313,  0.08463984,  1.39085804,  1.28195208,\n",
       "        0.31190859, -1.70692254, -0.05167559,  0.2082143 , -2.0608451 ,\n",
       "        1.049023  , -0.96997709,  1.04447172,  0.35557772, -0.84319062,\n",
       "        0.31167482,  1.03831746, -0.66800063, -0.55141822, -0.05972394,\n",
       "        0.09641159, -0.59523117, -0.61188583, -0.97291987,  0.27994156,\n",
       "       -0.96744426,  0.17124101,  0.68732336, -0.26659374, -1.65963398,\n",
       "       -1.09450771, -0.53646551,  0.0478293 , -0.2209808 , -1.25767023,\n",
       "       -0.93147001,  0.3289869 ,  0.81354691, -0.81938745,  1.1665371 ,\n",
       "        0.24619416, -2.41955591,  0.47676283, -0.97592199, -0.82623338,\n",
       "        0.66206741, -0.28926337, -1.67669518,  1.73454182, -2.78297406,\n",
       "        0.83977809, -0.49233813, -0.30442944, -0.95568664,  0.50683548,\n",
       "        0.56811522,  0.23786404,  0.54197779,  0.34891203, -2.28083934,\n",
       "        0.91195699, -1.17313066,  0.75055384, -0.19471173, -0.12572612,\n",
       "        1.3188883 , -1.53508853,  1.61378706,  1.88101543, -0.47493517,\n",
       "       -0.42151757, -0.34247375, -0.21606436,  0.74383448, -0.12116489,\n",
       "       -0.07555174,  1.59743055, -0.54076748, -0.12364124,  0.39095649,\n",
       "        0.31733917, -1.1202379 , -0.86940222, -1.84012308,  0.41803162,\n",
       "        0.06750582, -0.64103767, -0.37261188,  1.58530544, -2.34154872,\n",
       "        0.67310046, -1.68098125, -0.09456602,  0.9748116 , -0.78372259,\n",
       "       -1.30320649, -0.00289419, -0.5652649 , -0.39741716, -0.51948109,\n",
       "        1.10159433, -0.94380969, -0.14131472, -1.76120853,  1.60546501,\n",
       "        1.17999614,  0.74413761,  0.30434199,  0.30233621,  2.09883892,\n",
       "        0.06303711,  0.87625757,  1.76287466, -0.93831369, -0.57971068,\n",
       "        0.96969043,  1.51907919,  1.06947628, -0.24512558,  0.76248682,\n",
       "       -0.10003519, -0.15346046])"
      ]
     },
     "execution_count": 297,
     "metadata": {},
     "output_type": "execute_result"
    }
   ],
   "source": [
    "start = 50\n",
    "stop = 444\n",
    "step = 3\n",
    "t = np.random.randn(1000)\n",
    "t[start:stop:step]"
   ]
  },
  {
   "cell_type": "code",
   "execution_count": 299,
   "metadata": {},
   "outputs": [
    {
     "data": {
      "text/plain": [
       "array([64, 64, 84, 75, 79, 81, 83, 81, 75, 52, 95, 82, 54, 90, 97, 96, 65,\n",
       "       93, 53, 60, 79, 55, 67, 42, 66, 55, 59, 92, 54, 73, 70, 60, 45, 41,\n",
       "       97, 68, 57, 90, 79, 77, 55, 51, 52, 74, 40, 84, 78, 73, 41, 58])"
      ]
     },
     "execution_count": 299,
     "metadata": {},
     "output_type": "execute_result"
    }
   ],
   "source": [
    "t = np.random.randint(40,100, 50)\n",
    "t"
   ]
  },
  {
   "cell_type": "code",
   "execution_count": 303,
   "metadata": {},
   "outputs": [
    {
     "data": {
      "text/plain": [
       "50"
      ]
     },
     "execution_count": 303,
     "metadata": {},
     "output_type": "execute_result"
    }
   ],
   "source": [
    "len(t)"
   ]
  },
  {
   "cell_type": "code",
   "execution_count": 306,
   "metadata": {},
   "outputs": [
    {
     "data": {
      "text/plain": [
       "array([42, 66, 55, 59, 92, 54, 73, 70, 60, 45, 41, 97, 68, 57])"
      ]
     },
     "execution_count": 306,
     "metadata": {},
     "output_type": "execute_result"
    }
   ],
   "source": [
    "t[-27:37]"
   ]
  },
  {
   "cell_type": "code",
   "execution_count": 307,
   "metadata": {},
   "outputs": [
    {
     "data": {
      "text/plain": [
       "array([42, 59, 73, 45, 68])"
      ]
     },
     "execution_count": 307,
     "metadata": {},
     "output_type": "execute_result"
    }
   ],
   "source": [
    "t[-27:37:3]"
   ]
  },
  {
   "cell_type": "code",
   "execution_count": 311,
   "metadata": {},
   "outputs": [
    {
     "data": {
      "text/plain": [
       "array([[64],\n",
       "       [64],\n",
       "       [84],\n",
       "       [75],\n",
       "       [79],\n",
       "       [81],\n",
       "       [83],\n",
       "       [81],\n",
       "       [75],\n",
       "       [52],\n",
       "       [95],\n",
       "       [82],\n",
       "       [54],\n",
       "       [90],\n",
       "       [97],\n",
       "       [96],\n",
       "       [65],\n",
       "       [93],\n",
       "       [53],\n",
       "       [60],\n",
       "       [79],\n",
       "       [55],\n",
       "       [67],\n",
       "       [42],\n",
       "       [66],\n",
       "       [55],\n",
       "       [59],\n",
       "       [92],\n",
       "       [54],\n",
       "       [73],\n",
       "       [70],\n",
       "       [60],\n",
       "       [45],\n",
       "       [41],\n",
       "       [97],\n",
       "       [68],\n",
       "       [57],\n",
       "       [90],\n",
       "       [79],\n",
       "       [77],\n",
       "       [55],\n",
       "       [51],\n",
       "       [52],\n",
       "       [74],\n",
       "       [40],\n",
       "       [84],\n",
       "       [78],\n",
       "       [73],\n",
       "       [41],\n",
       "       [58]])"
      ]
     },
     "execution_count": 311,
     "metadata": {},
     "output_type": "execute_result"
    }
   ],
   "source": [
    "t[:, np.newaxis]"
   ]
  },
  {
   "cell_type": "code",
   "execution_count": 312,
   "metadata": {},
   "outputs": [
    {
     "data": {
      "text/plain": [
       "array([64, 64, 84, 75, 79, 81, 83, 81, 75, 52, 95, 82, 54, 90, 97, 96, 65,\n",
       "       93, 53, 60, 79, 55, 67, 42, 66, 55, 59, 92, 54, 73, 70, 60, 45, 41,\n",
       "       97, 68, 57, 90, 79, 77, 55, 51, 52, 74, 40, 84, 78, 73, 41, 58])"
      ]
     },
     "execution_count": 312,
     "metadata": {},
     "output_type": "execute_result"
    }
   ],
   "source": [
    "t"
   ]
  },
  {
   "cell_type": "code",
   "execution_count": 313,
   "metadata": {},
   "outputs": [
    {
     "data": {
      "text/plain": [
       "array([64, 75, 83, 52, 54, 96, 53, 55, 66, 92, 70, 41, 57, 77, 52, 84, 41])"
      ]
     },
     "execution_count": 313,
     "metadata": {},
     "output_type": "execute_result"
    }
   ],
   "source": [
    "t[::3]"
   ]
  },
  {
   "cell_type": "code",
   "execution_count": null,
   "metadata": {},
   "outputs": [],
   "source": []
  }
 ],
 "metadata": {
  "kernelspec": {
   "display_name": "Python 3",
   "language": "python",
   "name": "python3"
  },
  "language_info": {
   "codemirror_mode": {
    "name": "ipython",
    "version": 3
   },
   "file_extension": ".py",
   "mimetype": "text/x-python",
   "name": "python",
   "nbconvert_exporter": "python",
   "pygments_lexer": "ipython3",
   "version": "3.7.1"
  }
 },
 "nbformat": 4,
 "nbformat_minor": 2
}
